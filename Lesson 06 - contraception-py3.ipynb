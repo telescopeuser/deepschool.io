{
 "cells": [
  {
   "cell_type": "markdown",
   "metadata": {},
   "source": [
    "# Embeddings\n",
    "\n",
    "https://www.youtube.com/watch?v=wSXGlvTR9UM"
   ]
  },
  {
   "cell_type": "code",
   "execution_count": 1,
   "metadata": {},
   "outputs": [
    {
     "name": "stderr",
     "output_type": "stream",
     "text": [
      "Using TensorFlow backend.\n"
     ]
    }
   ],
   "source": [
    "import pandas as pd\n",
    "import numpy as np\n",
    "\n",
    "from keras.models import Sequential\n",
    "from keras.layers import Dense, Activation, Embedding, Merge, Flatten\n",
    "\n",
    "from sklearn.model_selection import train_test_split\n",
    "from sklearn.preprocessing import StandardScaler\n",
    "\n",
    "import matplotlib.pyplot as plt\n",
    "%matplotlib inline"
   ]
  },
  {
   "cell_type": "code",
   "execution_count": 2,
   "metadata": {},
   "outputs": [
    {
     "data": {
      "text/html": [
       "<div>\n",
       "<style scoped>\n",
       "    .dataframe tbody tr th:only-of-type {\n",
       "        vertical-align: middle;\n",
       "    }\n",
       "\n",
       "    .dataframe tbody tr th {\n",
       "        vertical-align: top;\n",
       "    }\n",
       "\n",
       "    .dataframe thead th {\n",
       "        text-align: right;\n",
       "    }\n",
       "</style>\n",
       "<table border=\"1\" class=\"dataframe\">\n",
       "  <thead>\n",
       "    <tr style=\"text-align: right;\">\n",
       "      <th></th>\n",
       "      <th>Age</th>\n",
       "      <th>Education</th>\n",
       "      <th>H_education</th>\n",
       "      <th>num_child</th>\n",
       "      <th>Religion</th>\n",
       "      <th>Employ</th>\n",
       "      <th>H_occupation</th>\n",
       "      <th>living_standard</th>\n",
       "      <th>Media_exposure</th>\n",
       "      <th>contraceptive</th>\n",
       "    </tr>\n",
       "  </thead>\n",
       "  <tbody>\n",
       "    <tr>\n",
       "      <th>0</th>\n",
       "      <td>24</td>\n",
       "      <td>2</td>\n",
       "      <td>3</td>\n",
       "      <td>3</td>\n",
       "      <td>1</td>\n",
       "      <td>1</td>\n",
       "      <td>2</td>\n",
       "      <td>3</td>\n",
       "      <td>0</td>\n",
       "      <td>1</td>\n",
       "    </tr>\n",
       "    <tr>\n",
       "      <th>1</th>\n",
       "      <td>45</td>\n",
       "      <td>1</td>\n",
       "      <td>3</td>\n",
       "      <td>10</td>\n",
       "      <td>1</td>\n",
       "      <td>1</td>\n",
       "      <td>3</td>\n",
       "      <td>4</td>\n",
       "      <td>0</td>\n",
       "      <td>1</td>\n",
       "    </tr>\n",
       "    <tr>\n",
       "      <th>2</th>\n",
       "      <td>43</td>\n",
       "      <td>2</td>\n",
       "      <td>3</td>\n",
       "      <td>7</td>\n",
       "      <td>1</td>\n",
       "      <td>1</td>\n",
       "      <td>3</td>\n",
       "      <td>4</td>\n",
       "      <td>0</td>\n",
       "      <td>1</td>\n",
       "    </tr>\n",
       "    <tr>\n",
       "      <th>3</th>\n",
       "      <td>42</td>\n",
       "      <td>3</td>\n",
       "      <td>2</td>\n",
       "      <td>9</td>\n",
       "      <td>1</td>\n",
       "      <td>1</td>\n",
       "      <td>3</td>\n",
       "      <td>3</td>\n",
       "      <td>0</td>\n",
       "      <td>1</td>\n",
       "    </tr>\n",
       "    <tr>\n",
       "      <th>4</th>\n",
       "      <td>36</td>\n",
       "      <td>3</td>\n",
       "      <td>3</td>\n",
       "      <td>8</td>\n",
       "      <td>1</td>\n",
       "      <td>1</td>\n",
       "      <td>3</td>\n",
       "      <td>2</td>\n",
       "      <td>0</td>\n",
       "      <td>1</td>\n",
       "    </tr>\n",
       "  </tbody>\n",
       "</table>\n",
       "</div>"
      ],
      "text/plain": [
       "   Age  Education  H_education  num_child  Religion  Employ  H_occupation  \\\n",
       "0   24          2            3          3         1       1             2   \n",
       "1   45          1            3         10         1       1             3   \n",
       "2   43          2            3          7         1       1             3   \n",
       "3   42          3            2          9         1       1             3   \n",
       "4   36          3            3          8         1       1             3   \n",
       "\n",
       "   living_standard  Media_exposure  contraceptive  \n",
       "0                3               0              1  \n",
       "1                4               0              1  \n",
       "2                4               0              1  \n",
       "3                3               0              1  \n",
       "4                2               0              1  "
      ]
     },
     "execution_count": 2,
     "metadata": {},
     "output_type": "execute_result"
    }
   ],
   "source": [
    "df = pd.read_csv('data/cmc.data',header=None,names=['Age','Education','H_education',\n",
    "                                                     'num_child','Religion', 'Employ',\n",
    "                                                     'H_occupation','living_standard',\n",
    "                                                     'Media_exposure','contraceptive'])\n",
    "df.head()"
   ]
  },
  {
   "cell_type": "code",
   "execution_count": 3,
   "metadata": {},
   "outputs": [
    {
     "data": {
      "text/plain": [
       "Age                False\n",
       "Education          False\n",
       "H_education        False\n",
       "num_child          False\n",
       "Religion           False\n",
       "Employ             False\n",
       "H_occupation       False\n",
       "living_standard    False\n",
       "Media_exposure     False\n",
       "contraceptive      False\n",
       "dtype: bool"
      ]
     },
     "execution_count": 3,
     "metadata": {},
     "output_type": "execute_result"
    }
   ],
   "source": [
    "df.isnull().any()"
   ]
  },
  {
   "cell_type": "code",
   "execution_count": 4,
   "metadata": {},
   "outputs": [
    {
     "data": {
      "text/plain": [
       "<matplotlib.axes._subplots.AxesSubplot at 0x7f19c624ae48>"
      ]
     },
     "execution_count": 4,
     "metadata": {},
     "output_type": "execute_result"
    },
    {
     "data": {
      "image/png": "[encoded data removed]",
      "text/plain": [
       "<matplotlib.figure.Figure at 0x7f19fc524860>"
      ]
     },
     "metadata": {},
     "output_type": "display_data"
    }
   ],
   "source": [
    "df.Education.hist()"
   ]
  },
  {
   "cell_type": "code",
   "execution_count": 5,
   "metadata": {},
   "outputs": [
    {
     "data": {
      "text/plain": [
       "(1473, 10)"
      ]
     },
     "execution_count": 5,
     "metadata": {},
     "output_type": "execute_result"
    }
   ],
   "source": [
    "df.shape"
   ]
  },
  {
   "cell_type": "code",
   "execution_count": 6,
   "metadata": {},
   "outputs": [
    {
     "data": {
      "text/plain": [
       "<matplotlib.axes._subplots.AxesSubplot at 0x7f19fc5246a0>"
      ]
     },
     "execution_count": 6,
     "metadata": {},
     "output_type": "execute_result"
    },
    {
     "data": {
      "image/png": "[encoded data removed]",
      "text/plain": [
       "<matplotlib.figure.Figure at 0x7f19be326eb8>"
      ]
     },
     "metadata": {},
     "output_type": "display_data"
    }
   ],
   "source": [
    "df.contraceptive.hist()"
   ]
  },
  {
   "cell_type": "code",
   "execution_count": 7,
   "metadata": {},
   "outputs": [
    {
     "data": {
      "text/plain": [
       "Age                int64\n",
       "Education          int64\n",
       "H_education        int64\n",
       "num_child          int64\n",
       "Religion           int64\n",
       "Employ             int64\n",
       "H_occupation       int64\n",
       "living_standard    int64\n",
       "Media_exposure     int64\n",
       "contraceptive      int64\n",
       "dtype: object"
      ]
     },
     "execution_count": 7,
     "metadata": {},
     "output_type": "execute_result"
    }
   ],
   "source": [
    "df.dtypes"
   ]
  },
  {
   "cell_type": "code",
   "execution_count": 8,
   "metadata": {},
   "outputs": [],
   "source": [
    "def one_hot_encoding(idx):\n",
    "    y = np.zeros((len(idx),max(idx)+1))\n",
    "    y[np.arange(len(idx)), idx] = 1\n",
    "    return y"
   ]
  },
  {
   "cell_type": "code",
   "execution_count": 9,
   "metadata": {},
   "outputs": [],
   "source": [
    "scaler = StandardScaler()\n",
    "df[['Age','num_child']] = scaler.fit_transform(df[['Age','num_child']]) "
   ]
  },
  {
   "cell_type": "code",
   "execution_count": 10,
   "metadata": {},
   "outputs": [],
   "source": [
    "x = df[['Age','num_child','Employ','Media_exposure']].values\n",
    "y = one_hot_encoding(df.contraceptive.values-1)\n",
    "\n",
    "liv_cats = df.living_standard.max()\n",
    "edu_cats = df.Education.max()\n",
    "\n",
    "liv = df.living_standard.values - 1\n",
    "liv_one_hot = one_hot_encoding(liv)\n",
    "edu = df.Education.values - 1\n",
    "edu_one_hot = one_hot_encoding(edu)\n",
    "\n",
    "train_x, test_x, train_liv, \\\n",
    "test_liv, train_edu, test_edu, train_y, test_y = train_test_split(x,liv_one_hot,edu_one_hot,y,test_size=0.1, random_state=1)"
   ]
  },
  {
   "cell_type": "code",
   "execution_count": 11,
   "metadata": {},
   "outputs": [],
   "source": [
    "train_x = np.hstack([train_x, train_edu, train_liv])\n",
    "test_x = np.hstack([test_x, test_edu, test_liv])"
   ]
  },
  {
   "cell_type": "code",
   "execution_count": 12,
   "metadata": {},
   "outputs": [
    {
     "data": {
      "text/plain": [
       "(1325, 12)"
      ]
     },
     "execution_count": 12,
     "metadata": {},
     "output_type": "execute_result"
    }
   ],
   "source": [
    "train_x.shape"
   ]
  },
  {
   "cell_type": "code",
   "execution_count": 13,
   "metadata": {},
   "outputs": [
    {
     "data": {
      "text/plain": [
       "(1325, 4)"
      ]
     },
     "execution_count": 13,
     "metadata": {},
     "output_type": "execute_result"
    }
   ],
   "source": [
    "train_edu.shape"
   ]
  },
  {
   "cell_type": "code",
   "execution_count": 14,
   "metadata": {},
   "outputs": [
    {
     "data": {
      "text/plain": [
       "(1325, 4)"
      ]
     },
     "execution_count": 14,
     "metadata": {},
     "output_type": "execute_result"
    }
   ],
   "source": [
    "train_liv.shape"
   ]
  },
  {
   "cell_type": "code",
   "execution_count": 15,
   "metadata": {},
   "outputs": [
    {
     "data": {
      "text/plain": [
       "(1325, 12)"
      ]
     },
     "execution_count": 15,
     "metadata": {},
     "output_type": "execute_result"
    }
   ],
   "source": [
    "train_x.shape"
   ]
  },
  {
   "cell_type": "code",
   "execution_count": 16,
   "metadata": {},
   "outputs": [
    {
     "name": "stdout",
     "output_type": "stream",
     "text": [
      "Epoch 1/100\n",
      " - 0s - loss: 1.1184 - acc: 0.3691\n",
      "Epoch 2/100\n",
      " - 0s - loss: 1.0552 - acc: 0.4317\n",
      "Epoch 3/100\n",
      " - 0s - loss: 1.0301 - acc: 0.4702\n",
      "Epoch 4/100\n",
      " - 0s - loss: 1.0122 - acc: 0.4853\n",
      "Epoch 5/100\n",
      " - 0s - loss: 0.9994 - acc: 0.4996\n",
      "Epoch 6/100\n",
      " - 0s - loss: 0.9893 - acc: 0.5192\n",
      "Epoch 7/100\n",
      " - 0s - loss: 0.9805 - acc: 0.5253\n",
      "Epoch 8/100\n",
      " - 0s - loss: 0.9735 - acc: 0.5291\n",
      "Epoch 9/100\n",
      " - 0s - loss: 0.9674 - acc: 0.5381\n",
      "Epoch 10/100\n",
      " - 0s - loss: 0.9624 - acc: 0.5396\n",
      "Epoch 11/100\n",
      " - 0s - loss: 0.9577 - acc: 0.5525\n",
      "Epoch 12/100\n",
      " - 0s - loss: 0.9536 - acc: 0.5592\n",
      "Epoch 13/100\n",
      " - 0s - loss: 0.9501 - acc: 0.5592\n",
      "Epoch 14/100\n",
      " - 0s - loss: 0.9472 - acc: 0.5638\n",
      "Epoch 15/100\n",
      " - 0s - loss: 0.9444 - acc: 0.5608\n",
      "Epoch 16/100\n",
      " - 0s - loss: 0.9419 - acc: 0.5630\n",
      "Epoch 17/100\n",
      " - 0s - loss: 0.9396 - acc: 0.5668\n",
      "Epoch 18/100\n",
      " - 0s - loss: 0.9377 - acc: 0.5615\n",
      "Epoch 19/100\n",
      " - 0s - loss: 0.9357 - acc: 0.5668\n",
      "Epoch 20/100\n",
      " - 0s - loss: 0.9341 - acc: 0.5683\n",
      "Epoch 21/100\n",
      " - 0s - loss: 0.9326 - acc: 0.5623\n",
      "Epoch 22/100\n",
      " - 0s - loss: 0.9312 - acc: 0.5660\n",
      "Epoch 23/100\n",
      " - 0s - loss: 0.9299 - acc: 0.5645\n",
      "Epoch 24/100\n",
      " - 0s - loss: 0.9287 - acc: 0.5691\n",
      "Epoch 25/100\n",
      " - 0s - loss: 0.9277 - acc: 0.5721\n",
      "Epoch 26/100\n",
      " - 0s - loss: 0.9264 - acc: 0.5698\n",
      "Epoch 27/100\n",
      " - 0s - loss: 0.9255 - acc: 0.5675\n",
      "Epoch 28/100\n",
      " - 0s - loss: 0.9246 - acc: 0.5698\n",
      "Epoch 29/100\n",
      " - 0s - loss: 0.9237 - acc: 0.5675\n",
      "Epoch 30/100\n",
      " - 0s - loss: 0.9228 - acc: 0.5653\n",
      "Epoch 31/100\n",
      " - 0s - loss: 0.9220 - acc: 0.5691\n",
      "Epoch 32/100\n",
      " - 0s - loss: 0.9213 - acc: 0.5675\n",
      "Epoch 33/100\n",
      " - 0s - loss: 0.9204 - acc: 0.5706\n",
      "Epoch 34/100\n",
      " - 0s - loss: 0.9199 - acc: 0.5660\n",
      "Epoch 35/100\n",
      " - 0s - loss: 0.9191 - acc: 0.5698\n",
      "Epoch 36/100\n",
      " - 0s - loss: 0.9185 - acc: 0.5683\n",
      "Epoch 37/100\n",
      " - 0s - loss: 0.9181 - acc: 0.5691\n",
      "Epoch 38/100\n",
      " - 0s - loss: 0.9174 - acc: 0.5691\n",
      "Epoch 39/100\n",
      " - 0s - loss: 0.9169 - acc: 0.5691\n",
      "Epoch 40/100\n",
      " - 0s - loss: 0.9164 - acc: 0.5691\n",
      "Epoch 41/100\n",
      " - 0s - loss: 0.9159 - acc: 0.5668\n",
      "Epoch 42/100\n",
      " - 0s - loss: 0.9155 - acc: 0.5698\n",
      "Epoch 43/100\n",
      " - 0s - loss: 0.9150 - acc: 0.5698\n",
      "Epoch 44/100\n",
      " - 0s - loss: 0.9145 - acc: 0.5713\n",
      "Epoch 45/100\n",
      " - 0s - loss: 0.9141 - acc: 0.5706\n",
      "Epoch 46/100\n",
      " - 0s - loss: 0.9137 - acc: 0.5721\n",
      "Epoch 47/100\n",
      " - 0s - loss: 0.9134 - acc: 0.5721\n",
      "Epoch 48/100\n",
      " - 0s - loss: 0.9130 - acc: 0.5713\n",
      "Epoch 49/100\n",
      " - 0s - loss: 0.9126 - acc: 0.5706\n",
      "Epoch 50/100\n",
      " - 0s - loss: 0.9123 - acc: 0.5698\n",
      "Epoch 51/100\n",
      " - 0s - loss: 0.9120 - acc: 0.5683\n",
      "Epoch 52/100\n",
      " - 0s - loss: 0.9116 - acc: 0.5721\n",
      "Epoch 53/100\n",
      " - 0s - loss: 0.9113 - acc: 0.5743\n",
      "Epoch 54/100\n",
      " - 0s - loss: 0.9110 - acc: 0.5743\n",
      "Epoch 55/100\n",
      " - 0s - loss: 0.9107 - acc: 0.5721\n",
      "Epoch 56/100\n",
      " - 0s - loss: 0.9104 - acc: 0.5743\n",
      "Epoch 57/100\n",
      " - 0s - loss: 0.9101 - acc: 0.5736\n",
      "Epoch 58/100\n",
      " - 0s - loss: 0.9099 - acc: 0.5736\n",
      "Epoch 59/100\n",
      " - 0s - loss: 0.9095 - acc: 0.5728\n",
      "Epoch 60/100\n",
      " - 0s - loss: 0.9094 - acc: 0.5736\n",
      "Epoch 61/100\n",
      " - 0s - loss: 0.9092 - acc: 0.5721\n",
      "Epoch 62/100\n",
      " - 0s - loss: 0.9089 - acc: 0.5728\n",
      "Epoch 63/100\n",
      " - 0s - loss: 0.9087 - acc: 0.5743\n",
      "Epoch 64/100\n",
      " - 0s - loss: 0.9084 - acc: 0.5743\n",
      "Epoch 65/100\n",
      " - 0s - loss: 0.9082 - acc: 0.5736\n",
      "Epoch 66/100\n",
      " - 0s - loss: 0.9080 - acc: 0.5743\n",
      "Epoch 67/100\n",
      " - 0s - loss: 0.9078 - acc: 0.5743\n",
      "Epoch 68/100\n",
      " - 0s - loss: 0.9076 - acc: 0.5721\n",
      "Epoch 69/100\n",
      " - 0s - loss: 0.9073 - acc: 0.5713\n",
      "Epoch 70/100\n",
      " - 0s - loss: 0.9072 - acc: 0.5766\n",
      "Epoch 71/100\n",
      " - 0s - loss: 0.9070 - acc: 0.5721\n",
      "Epoch 72/100\n",
      " - 0s - loss: 0.9068 - acc: 0.5721\n",
      "Epoch 73/100\n",
      " - 0s - loss: 0.9066 - acc: 0.5706\n",
      "Epoch 74/100\n",
      " - 0s - loss: 0.9064 - acc: 0.5736\n",
      "Epoch 75/100\n",
      " - 0s - loss: 0.9062 - acc: 0.5721\n",
      "Epoch 76/100\n",
      " - 0s - loss: 0.9060 - acc: 0.5721\n",
      "Epoch 77/100\n",
      " - 0s - loss: 0.9059 - acc: 0.5706\n",
      "Epoch 78/100\n",
      " - 0s - loss: 0.9057 - acc: 0.5721\n",
      "Epoch 79/100\n",
      " - 0s - loss: 0.9055 - acc: 0.5743\n",
      "Epoch 80/100\n",
      " - 0s - loss: 0.9054 - acc: 0.5721\n",
      "Epoch 81/100\n",
      " - 0s - loss: 0.9052 - acc: 0.5728\n",
      "Epoch 82/100\n",
      " - 0s - loss: 0.9050 - acc: 0.5728\n",
      "Epoch 83/100\n",
      " - 0s - loss: 0.9050 - acc: 0.5736\n",
      "Epoch 84/100\n",
      " - 0s - loss: 0.9048 - acc: 0.5736\n",
      "Epoch 85/100\n",
      " - 0s - loss: 0.9046 - acc: 0.5728\n",
      "Epoch 86/100\n",
      " - 0s - loss: 0.9044 - acc: 0.5668\n",
      "Epoch 87/100\n",
      " - 0s - loss: 0.9044 - acc: 0.5706\n",
      "Epoch 88/100\n",
      " - 0s - loss: 0.9042 - acc: 0.5706\n",
      "Epoch 89/100\n",
      " - 0s - loss: 0.9040 - acc: 0.5683\n",
      "Epoch 90/100\n",
      " - 0s - loss: 0.9039 - acc: 0.5675\n",
      "Epoch 91/100\n",
      " - 0s - loss: 0.9037 - acc: 0.5743\n",
      "Epoch 92/100\n",
      " - 0s - loss: 0.9036 - acc: 0.5683\n",
      "Epoch 93/100\n",
      " - 0s - loss: 0.9034 - acc: 0.5698\n",
      "Epoch 94/100\n",
      " - 0s - loss: 0.9034 - acc: 0.5713\n",
      "Epoch 95/100\n",
      " - 0s - loss: 0.9033 - acc: 0.5706\n",
      "Epoch 96/100\n",
      " - 0s - loss: 0.9031 - acc: 0.5683\n",
      "Epoch 97/100\n",
      " - 0s - loss: 0.9030 - acc: 0.5683\n",
      "Epoch 98/100\n",
      " - 0s - loss: 0.9029 - acc: 0.5706\n",
      "Epoch 99/100\n",
      " - 0s - loss: 0.9027 - acc: 0.5691\n",
      "Epoch 100/100\n",
      " - 0s - loss: 0.9026 - acc: 0.5668\n"
     ]
    },
    {
     "data": {
      "text/plain": [
       "<keras.callbacks.History at 0x7f19be219a20>"
      ]
     },
     "execution_count": 16,
     "metadata": {},
     "output_type": "execute_result"
    }
   ],
   "source": [
    "model = Sequential()\n",
    "model.add(Dense(input_dim=train_x.shape[1],units=12))\n",
    "model.add(Activation('relu'))\n",
    "model.add(Dense(units=3))\n",
    "model.add(Activation('softmax'))\n",
    "\n",
    "model.compile(optimizer='adagrad', loss='categorical_crossentropy', metrics=['accuracy'])\n",
    "model.fit(train_x, train_y, epochs=100, verbose=2)"
   ]
  },
  {
   "cell_type": "code",
   "execution_count": 17,
   "metadata": {},
   "outputs": [
    {
     "name": "stdout",
     "output_type": "stream",
     "text": [
      "_________________________________________________________________\n",
      "Layer (type)                 Output Shape              Param #   \n",
      "=================================================================\n",
      "dense_1 (Dense)              (None, 12)                156       \n",
      "_________________________________________________________________\n",
      "activation_1 (Activation)    (None, 12)                0         \n",
      "_________________________________________________________________\n",
      "dense_2 (Dense)              (None, 3)                 39        \n",
      "_________________________________________________________________\n",
      "activation_2 (Activation)    (None, 3)                 0         \n",
      "=================================================================\n",
      "Total params: 195\n",
      "Trainable params: 195\n",
      "Non-trainable params: 0\n",
      "_________________________________________________________________\n"
     ]
    }
   ],
   "source": [
    "model.summary()"
   ]
  },
  {
   "cell_type": "code",
   "execution_count": 18,
   "metadata": {},
   "outputs": [
    {
     "name": "stdout",
     "output_type": "stream",
     "text": [
      "(12, 12)\n",
      "(12,)\n",
      "(12, 3)\n",
      "(3,)\n"
     ]
    }
   ],
   "source": [
    "for w in model.get_weights():\n",
    "    print(w.shape)"
   ]
  },
  {
   "cell_type": "code",
   "execution_count": 19,
   "metadata": {},
   "outputs": [
    {
     "name": "stdout",
     "output_type": "stream",
     "text": [
      "\r",
      "148/148 [==============================] - 0s 123us/step\n"
     ]
    },
    {
     "data": {
      "text/plain": [
       "[0.86519604921340942, 0.59459459781646729]"
      ]
     },
     "execution_count": 19,
     "metadata": {},
     "output_type": "execute_result"
    }
   ],
   "source": [
    "model.evaluate(test_x, test_y, batch_size=256)"
   ]
  },
  {
   "cell_type": "code",
   "execution_count": 20,
   "metadata": {},
   "outputs": [
    {
     "data": {
      "text/plain": [
       "array([[ 0.271844  ,  0.26208067,  0.4660753 ],\n",
       "       [ 0.64982235,  0.19875078,  0.15142681],\n",
       "       [ 0.1893878 ,  0.23950115,  0.57111108],\n",
       "       [ 0.43371147,  0.32113966,  0.24514891],\n",
       "       [ 0.63295704,  0.20653607,  0.1605069 ],\n",
       "       [ 0.14697671,  0.55212164,  0.30090162],\n",
       "       [ 0.08474454,  0.44951931,  0.46573621],\n",
       "       [ 0.73293525,  0.1353562 ,  0.13170856],\n",
       "       [ 0.71772629,  0.04429471,  0.23797905],\n",
       "       [ 0.62941515,  0.14667241,  0.22391239]], dtype=float32)"
      ]
     },
     "execution_count": 20,
     "metadata": {},
     "output_type": "execute_result"
    }
   ],
   "source": [
    "model.predict(test_x[:10])"
   ]
  },
  {
   "cell_type": "code",
   "execution_count": 21,
   "metadata": {},
   "outputs": [
    {
     "data": {
      "text/plain": [
       "array([2, 3, 3, ..., 3, 1, 3])"
      ]
     },
     "execution_count": 21,
     "metadata": {},
     "output_type": "execute_result"
    }
   ],
   "source": [
    "liv"
   ]
  },
  {
   "cell_type": "code",
   "execution_count": 22,
   "metadata": {},
   "outputs": [],
   "source": [
    "train_x, test_x, train_liv, \\\n",
    "test_liv, train_edu, test_edu, train_y, test_y = train_test_split(x,liv,edu,y,test_size=0.1, random_state=1)"
   ]
  },
  {
   "cell_type": "code",
   "execution_count": 23,
   "metadata": {},
   "outputs": [
    {
     "name": "stderr",
     "output_type": "stream",
     "text": [
      "/home/iss-user/anaconda3/envs/iss-env-py3/lib/python3.6/site-packages/ipykernel_launcher.py:16: UserWarning: The `Merge` layer is deprecated and will be removed after 08/2017. Use instead layers from `keras.layers.merge`, e.g. `add`, `concatenate`, etc.\n",
      "  app.launch_new_instance()\n"
     ]
    }
   ],
   "source": [
    "# Input layer for religion\n",
    "encoder_liv = Sequential()\n",
    "encoder_liv.add(Embedding(liv_cats,4,input_length=1))\n",
    "encoder_liv.add(Flatten())\n",
    "\n",
    "# Input layer for religion\n",
    "encoder_edu = Sequential()\n",
    "encoder_edu.add(Embedding(edu_cats,4,input_length=1))\n",
    "encoder_edu.add(Flatten())\n",
    "\n",
    "# Input layer for triggers(x_b)\n",
    "dense_x = Sequential()\n",
    "dense_x.add(Dense(4, input_dim=x.shape[1]))\n",
    "\n",
    "model = Sequential()\n",
    "model.add(Merge([encoder_liv, encoder_edu, dense_x], mode='concat'))\n",
    "# model.add(Activation('relu'))\n",
    "model.add(Dense(units=12))\n",
    "model.add(Activation('relu'))\n",
    "model.add(Dense(units=3))\n",
    "model.add(Activation('softmax'))\n",
    "\n",
    "model.compile(optimizer='adagrad', loss='categorical_crossentropy', metrics=['accuracy'])"
   ]
  },
  {
   "cell_type": "code",
   "execution_count": 24,
   "metadata": {},
   "outputs": [
    {
     "name": "stdout",
     "output_type": "stream",
     "text": [
      "Epoch 1/100\n",
      " - 0s - loss: 1.0862 - acc: 0.4415\n",
      "Epoch 2/100\n",
      " - 0s - loss: 1.0272 - acc: 0.4747\n",
      "Epoch 3/100\n",
      " - 0s - loss: 1.0096 - acc: 0.4936\n",
      "Epoch 4/100\n",
      " - 0s - loss: 0.9963 - acc: 0.5117\n",
      "Epoch 5/100\n",
      " - 0s - loss: 0.9841 - acc: 0.5200\n",
      "Epoch 6/100\n",
      " - 0s - loss: 0.9733 - acc: 0.5313\n",
      "Epoch 7/100\n",
      " - 0s - loss: 0.9634 - acc: 0.5449\n",
      "Epoch 8/100\n",
      " - 0s - loss: 0.9551 - acc: 0.5449\n",
      "Epoch 9/100\n",
      " - 0s - loss: 0.9481 - acc: 0.5464\n",
      "Epoch 10/100\n",
      " - 0s - loss: 0.9424 - acc: 0.5442\n",
      "Epoch 11/100\n",
      " - 0s - loss: 0.9377 - acc: 0.5464\n",
      "Epoch 12/100\n",
      " - 0s - loss: 0.9341 - acc: 0.5457\n",
      "Epoch 13/100\n",
      " - 0s - loss: 0.9310 - acc: 0.5502\n",
      "Epoch 14/100\n",
      " - 0s - loss: 0.9284 - acc: 0.5494\n",
      "Epoch 15/100\n",
      " - 0s - loss: 0.9261 - acc: 0.5562\n",
      "Epoch 16/100\n",
      " - 0s - loss: 0.9243 - acc: 0.5562\n",
      "Epoch 17/100\n",
      " - 0s - loss: 0.9225 - acc: 0.5570\n",
      "Epoch 18/100\n",
      " - 0s - loss: 0.9211 - acc: 0.5547\n",
      "Epoch 19/100\n",
      " - 0s - loss: 0.9196 - acc: 0.5570\n",
      "Epoch 20/100\n",
      " - 0s - loss: 0.9187 - acc: 0.5532\n",
      "Epoch 21/100\n",
      " - 0s - loss: 0.9177 - acc: 0.5608\n",
      "Epoch 22/100\n",
      " - 0s - loss: 0.9166 - acc: 0.5592\n",
      "Epoch 23/100\n",
      " - 0s - loss: 0.9158 - acc: 0.5570\n",
      "Epoch 24/100\n",
      " - 0s - loss: 0.9148 - acc: 0.5555\n",
      "Epoch 25/100\n",
      " - 0s - loss: 0.9143 - acc: 0.5600\n",
      "Epoch 26/100\n",
      " - 0s - loss: 0.9134 - acc: 0.5608\n",
      "Epoch 27/100\n",
      " - 0s - loss: 0.9126 - acc: 0.5570\n",
      "Epoch 28/100\n",
      " - 0s - loss: 0.9120 - acc: 0.5577\n",
      "Epoch 29/100\n",
      " - 0s - loss: 0.9113 - acc: 0.5630\n",
      "Epoch 30/100\n",
      " - 0s - loss: 0.9107 - acc: 0.5630\n",
      "Epoch 31/100\n",
      " - 0s - loss: 0.9101 - acc: 0.5592\n",
      "Epoch 32/100\n",
      " - 0s - loss: 0.9098 - acc: 0.5608\n",
      "Epoch 33/100\n",
      " - 0s - loss: 0.9092 - acc: 0.5615\n",
      "Epoch 34/100\n",
      " - 0s - loss: 0.9087 - acc: 0.5608\n",
      "Epoch 35/100\n",
      " - 0s - loss: 0.9083 - acc: 0.5630\n",
      "Epoch 36/100\n",
      " - 0s - loss: 0.9077 - acc: 0.5653\n",
      "Epoch 37/100\n",
      " - 0s - loss: 0.9072 - acc: 0.5653\n",
      "Epoch 38/100\n",
      " - 0s - loss: 0.9068 - acc: 0.5638\n",
      "Epoch 39/100\n",
      " - 0s - loss: 0.9064 - acc: 0.5668\n",
      "Epoch 40/100\n",
      " - 0s - loss: 0.9060 - acc: 0.5660\n",
      "Epoch 41/100\n",
      " - 0s - loss: 0.9055 - acc: 0.5660\n",
      "Epoch 42/100\n",
      " - 0s - loss: 0.9052 - acc: 0.5660\n",
      "Epoch 43/100\n",
      " - 0s - loss: 0.9048 - acc: 0.5713\n",
      "Epoch 44/100\n",
      " - 0s - loss: 0.9044 - acc: 0.5691\n",
      "Epoch 45/100\n",
      " - 0s - loss: 0.9041 - acc: 0.5675\n",
      "Epoch 46/100\n",
      " - 0s - loss: 0.9038 - acc: 0.5698\n",
      "Epoch 47/100\n",
      " - 0s - loss: 0.9035 - acc: 0.5675\n",
      "Epoch 48/100\n",
      " - 0s - loss: 0.9031 - acc: 0.5683\n",
      "Epoch 49/100\n",
      " - 0s - loss: 0.9028 - acc: 0.5691\n",
      "Epoch 50/100\n",
      " - 0s - loss: 0.9026 - acc: 0.5691\n",
      "Epoch 51/100\n",
      " - 0s - loss: 0.9022 - acc: 0.5721\n",
      "Epoch 52/100\n",
      " - 0s - loss: 0.9019 - acc: 0.5683\n",
      "Epoch 53/100\n",
      " - 0s - loss: 0.9017 - acc: 0.5706\n",
      "Epoch 54/100\n",
      " - 0s - loss: 0.9014 - acc: 0.5721\n",
      "Epoch 55/100\n",
      " - 0s - loss: 0.9010 - acc: 0.5706\n",
      "Epoch 56/100\n",
      " - 0s - loss: 0.9009 - acc: 0.5698\n",
      "Epoch 57/100\n",
      " - 0s - loss: 0.9005 - acc: 0.5728\n",
      "Epoch 58/100\n",
      " - 0s - loss: 0.9003 - acc: 0.5706\n",
      "Epoch 59/100\n",
      " - 0s - loss: 0.9001 - acc: 0.5728\n",
      "Epoch 60/100\n",
      " - 0s - loss: 0.8999 - acc: 0.5683\n",
      "Epoch 61/100\n",
      " - 0s - loss: 0.8995 - acc: 0.5721\n",
      "Epoch 62/100\n",
      " - 0s - loss: 0.8994 - acc: 0.5706\n",
      "Epoch 63/100\n",
      " - 0s - loss: 0.8991 - acc: 0.5698\n",
      "Epoch 64/100\n",
      " - 0s - loss: 0.8990 - acc: 0.5706\n",
      "Epoch 65/100\n",
      " - 0s - loss: 0.8988 - acc: 0.5713\n",
      "Epoch 66/100\n",
      " - 0s - loss: 0.8985 - acc: 0.5683\n",
      "Epoch 67/100\n",
      " - 0s - loss: 0.8983 - acc: 0.5675\n",
      "Epoch 68/100\n",
      " - 0s - loss: 0.8982 - acc: 0.5698\n",
      "Epoch 69/100\n",
      " - 0s - loss: 0.8980 - acc: 0.5691\n",
      "Epoch 70/100\n",
      " - 0s - loss: 0.8978 - acc: 0.5645\n",
      "Epoch 71/100\n",
      " - 0s - loss: 0.8975 - acc: 0.5683\n",
      "Epoch 72/100\n",
      " - 0s - loss: 0.8973 - acc: 0.5683\n",
      "Epoch 73/100\n",
      " - 0s - loss: 0.8972 - acc: 0.5645\n",
      "Epoch 74/100\n",
      " - 0s - loss: 0.8971 - acc: 0.5683\n",
      "Epoch 75/100\n",
      " - 0s - loss: 0.8968 - acc: 0.5683\n",
      "Epoch 76/100\n",
      " - 0s - loss: 0.8967 - acc: 0.5668\n",
      "Epoch 77/100\n",
      " - 0s - loss: 0.8965 - acc: 0.5706\n",
      "Epoch 78/100\n",
      " - 0s - loss: 0.8964 - acc: 0.5660\n",
      "Epoch 79/100\n",
      " - 0s - loss: 0.8963 - acc: 0.5653\n",
      "Epoch 80/100\n",
      " - 0s - loss: 0.8961 - acc: 0.5668\n",
      "Epoch 81/100\n",
      " - 0s - loss: 0.8959 - acc: 0.5653\n",
      "Epoch 82/100\n",
      " - 0s - loss: 0.8958 - acc: 0.5653\n",
      "Epoch 83/100\n",
      " - 0s - loss: 0.8956 - acc: 0.5638\n",
      "Epoch 84/100\n",
      " - 0s - loss: 0.8955 - acc: 0.5691\n",
      "Epoch 85/100\n",
      " - 0s - loss: 0.8953 - acc: 0.5691\n",
      "Epoch 86/100\n",
      " - 0s - loss: 0.8952 - acc: 0.5668\n",
      "Epoch 87/100\n",
      " - 0s - loss: 0.8950 - acc: 0.5660\n",
      "Epoch 88/100\n",
      " - 0s - loss: 0.8950 - acc: 0.5691\n",
      "Epoch 89/100\n",
      " - 0s - loss: 0.8948 - acc: 0.5660\n",
      "Epoch 90/100\n",
      " - 0s - loss: 0.8946 - acc: 0.5706\n",
      "Epoch 91/100\n",
      " - 0s - loss: 0.8945 - acc: 0.5683\n",
      "Epoch 92/100\n",
      " - 0s - loss: 0.8944 - acc: 0.5683\n",
      "Epoch 93/100\n",
      " - 0s - loss: 0.8942 - acc: 0.5691\n",
      "Epoch 94/100\n",
      " - 0s - loss: 0.8941 - acc: 0.5691\n",
      "Epoch 95/100\n",
      " - 0s - loss: 0.8940 - acc: 0.5691\n",
      "Epoch 96/100\n",
      " - 0s - loss: 0.8938 - acc: 0.5683\n",
      "Epoch 97/100\n",
      " - 0s - loss: 0.8937 - acc: 0.5668\n",
      "Epoch 98/100\n",
      " - 0s - loss: 0.8936 - acc: 0.5691\n",
      "Epoch 99/100\n",
      " - 0s - loss: 0.8934 - acc: 0.5698\n",
      "Epoch 100/100\n",
      " - 0s - loss: 0.8933 - acc: 0.5668\n"
     ]
    },
    {
     "data": {
      "text/plain": [
       "<keras.callbacks.History at 0x7f19bc6c6c18>"
      ]
     },
     "execution_count": 24,
     "metadata": {},
     "output_type": "execute_result"
    }
   ],
   "source": [
    "model.fit([train_liv[:,None], train_edu[:,None], train_x], train_y, epochs=100, verbose=2)"
   ]
  },
  {
   "cell_type": "code",
   "execution_count": 25,
   "metadata": {},
   "outputs": [
    {
     "name": "stdout",
     "output_type": "stream",
     "text": [
      "_________________________________________________________________\n",
      "Layer (type)                 Output Shape              Param #   \n",
      "=================================================================\n",
      "dense_3 (Dense)              (None, 4)                 20        \n",
      "=================================================================\n",
      "Total params: 20\n",
      "Trainable params: 20\n",
      "Non-trainable params: 0\n",
      "_________________________________________________________________\n"
     ]
    }
   ],
   "source": [
    "dense_x.summary()"
   ]
  },
  {
   "cell_type": "code",
   "execution_count": 26,
   "metadata": {},
   "outputs": [
    {
     "name": "stdout",
     "output_type": "stream",
     "text": [
      "_________________________________________________________________\n",
      "Layer (type)                 Output Shape              Param #   \n",
      "=================================================================\n",
      "embedding_1 (Embedding)      (None, 1, 4)              16        \n",
      "_________________________________________________________________\n",
      "flatten_1 (Flatten)          (None, 4)                 0         \n",
      "=================================================================\n",
      "Total params: 16\n",
      "Trainable params: 16\n",
      "Non-trainable params: 0\n",
      "_________________________________________________________________\n"
     ]
    }
   ],
   "source": [
    "encoder_liv.summary()"
   ]
  },
  {
   "cell_type": "code",
   "execution_count": 27,
   "metadata": {},
   "outputs": [
    {
     "name": "stdout",
     "output_type": "stream",
     "text": [
      "_________________________________________________________________\n",
      "Layer (type)                 Output Shape              Param #   \n",
      "=================================================================\n",
      "merge_1 (Merge)              (None, 12)                0         \n",
      "_________________________________________________________________\n",
      "dense_4 (Dense)              (None, 12)                156       \n",
      "_________________________________________________________________\n",
      "activation_3 (Activation)    (None, 12)                0         \n",
      "_________________________________________________________________\n",
      "dense_5 (Dense)              (None, 3)                 39        \n",
      "_________________________________________________________________\n",
      "activation_4 (Activation)    (None, 3)                 0         \n",
      "=================================================================\n",
      "Total params: 247\n",
      "Trainable params: 247\n",
      "Non-trainable params: 0\n",
      "_________________________________________________________________\n"
     ]
    }
   ],
   "source": [
    "model.summary()"
   ]
  },
  {
   "cell_type": "code",
   "execution_count": 28,
   "metadata": {},
   "outputs": [
    {
     "data": {
      "text/plain": [
       "[[array([[ 0.11461838, -0.34203887,  0.1574989 , -0.18827528],\n",
       "         [ 0.03612387, -0.09300762,  0.14523154, -0.07043479],\n",
       "         [-0.05523474,  0.03770797, -0.08984373, -0.12650369],\n",
       "         [-0.26757184,  0.09603775, -0.02350858,  0.02760144]], dtype=float32)],\n",
       " [],\n",
       " [array([[-0.33447874,  0.10087483, -0.17724663,  0.37019762],\n",
       "         [-0.19015916,  0.10320542, -0.17929031,  0.13965108],\n",
       "         [ 0.03541155, -0.07324128, -0.02222213,  0.00450438],\n",
       "         [ 0.16312642, -0.18249854,  0.1878092 , -0.15894601]], dtype=float32)],\n",
       " [],\n",
       " [array([[ 0.08907066,  0.56465811, -0.5306164 , -0.55126286],\n",
       "         [ 0.72814816, -0.54345506, -1.00001395,  0.69647217],\n",
       "         [-0.2183753 , -0.41058061, -0.60998988,  0.04339036],\n",
       "         [ 0.1891986 , -0.27569699,  0.16744161, -0.45392898]], dtype=float32),\n",
       "  array([-0.09983173, -0.08255248, -0.01086754,  0.11057617], dtype=float32)],\n",
       " [array([[ 0.28055403, -0.22324848, -0.04198486, -0.32106245, -0.46102294,\n",
       "          -0.61097711,  0.37093431, -0.65579599,  0.54023278,  0.56814456,\n",
       "          -0.35866413,  0.48798227],\n",
       "         [-0.4104988 , -0.55542564, -0.0179766 , -0.71362847,  0.24251916,\n",
       "           0.43640536, -0.05154955,  0.08515188,  0.34443247, -0.25787458,\n",
       "           0.56255478, -0.77275157],\n",
       "         [ 0.15404589, -0.12044239, -0.20223196,  0.71536231, -0.39534995,\n",
       "          -0.30848011,  0.27418819,  0.05474928,  0.06473001, -0.13655296,\n",
       "           0.07562488,  0.30649641],\n",
       "         [ 0.25122359, -0.46237743, -0.16138694,  0.1055895 , -0.6171971 ,\n",
       "           0.00161295,  0.16826713, -0.38480458,  0.18370101, -0.48574173,\n",
       "           0.59727061, -0.24517222],\n",
       "         [ 0.73987991, -0.27204287,  0.19027574, -0.62151504,  0.75363928,\n",
       "           0.33863625, -0.20525753,  0.26320043, -0.06548473,  0.17120464,\n",
       "          -0.02496666, -0.22155401],\n",
       "         [-0.6267764 ,  0.59254503,  0.04759149, -0.07922582, -0.12596251,\n",
       "          -0.07920407,  0.27689555, -0.76918489,  0.26709163, -0.47612527,\n",
       "          -0.25702366,  0.22312373],\n",
       "         [ 0.53051502, -0.21143083, -0.27392128, -0.58348167,  0.41532502,\n",
       "           0.00759327, -0.23197189,  0.11577233,  0.13729477,  0.35752213,\n",
       "          -0.5322426 ,  0.01398188],\n",
       "         [-0.34436935,  0.28576198,  0.15713069,  0.03742436, -0.29737502,\n",
       "          -0.01022497,  0.70708501, -0.63993526,  0.35943386, -0.09829757,\n",
       "          -0.29055974,  0.13867539],\n",
       "         [ 0.04806294, -0.58496326, -0.25446376, -0.48536241, -0.32242197,\n",
       "          -0.46294954, -0.37695706,  0.29543701, -0.14228815,  0.09317286,\n",
       "          -0.26162282,  0.29119492],\n",
       "         [ 0.30450878,  0.43918827,  0.33705446, -0.54763359, -0.34627661,\n",
       "          -0.18234706, -0.16973139,  0.50565505, -0.05870245,  0.22744232,\n",
       "          -0.3482101 , -0.27332985],\n",
       "         [-0.05494831,  0.15298828,  0.2568464 ,  0.11373264, -0.17085689,\n",
       "          -0.18551761, -0.09762581,  0.0848093 , -0.00872855, -0.48181561,\n",
       "           0.45935321, -0.68574435],\n",
       "         [ 0.33256343, -0.20779993, -0.76108938,  0.40707916, -0.02919789,\n",
       "           0.46380335, -0.31471571,  0.36807325,  0.32008851, -0.45752424,\n",
       "          -0.09827089, -0.12727252]], dtype=float32),\n",
       "  array([ 0.03793667,  0.09429045,  0.03342529,  0.14295928,  0.03432826,\n",
       "          0.05333524,  0.19511238,  0.09730978,  0.03135414, -0.02183887,\n",
       "         -0.12148196,  0.03439559], dtype=float32)],\n",
       " [],\n",
       " [array([[-0.75567383, -0.0627867 , -0.22553061],\n",
       "         [ 0.62995774, -0.22442317, -0.18658923],\n",
       "         [ 0.69875801, -0.36904648, -0.44923219],\n",
       "         [-0.01222399, -0.73355269,  0.26801085],\n",
       "         [-0.42497581,  0.54062188,  0.18712905],\n",
       "         [-0.51365685,  0.15264477,  0.14000769],\n",
       "         [ 0.00906881, -0.76696712, -0.07246215],\n",
       "         [-0.77347255,  0.35958385,  0.43226239],\n",
       "         [ 0.25294703,  0.18780799,  0.55057442],\n",
       "         [ 0.10043843,  0.09499138, -0.77659261],\n",
       "         [ 0.50099903,  0.51197642, -0.15413481],\n",
       "         [ 0.04161192, -0.44775769, -0.32908806]], dtype=float32),\n",
       "  array([ 0.09534942, -0.13023728,  0.05795122], dtype=float32)],\n",
       " []]"
      ]
     },
     "execution_count": 28,
     "metadata": {},
     "output_type": "execute_result"
    }
   ],
   "source": [
    "a = model.get_weights()\n",
    "a"
   ]
  },
  {
   "cell_type": "code",
   "execution_count": 29,
   "metadata": {},
   "outputs": [
    {
     "name": "stdout",
     "output_type": "stream",
     "text": [
      "\r",
      "148/148 [==============================] - 0s 258us/step\n"
     ]
    },
    {
     "data": {
      "text/plain": [
       "[0.85121196508407593, 0.59459459781646729]"
      ]
     },
     "execution_count": 29,
     "metadata": {},
     "output_type": "execute_result"
    }
   ],
   "source": [
    "model.evaluate([test_liv[:,None], test_edu[:,None], test_x],test_y, batch_size=256)"
   ]
  },
  {
   "cell_type": "code",
   "execution_count": 30,
   "metadata": {},
   "outputs": [
    {
     "data": {
      "text/plain": [
       "array([[ 0.31349316,  0.24946989,  0.43703696],\n",
       "       [ 0.8597433 ,  0.07680129,  0.06345554],\n",
       "       [ 0.2697202 ,  0.14221881,  0.58806098],\n",
       "       [ 0.39420721,  0.39873827,  0.20705448],\n",
       "       [ 0.8103112 ,  0.11192607,  0.07776271]], dtype=float32)"
      ]
     },
     "execution_count": 30,
     "metadata": {},
     "output_type": "execute_result"
    }
   ],
   "source": [
    "p = model.predict([test_liv[:,None], test_edu[:,None], test_x], batch_size=256)\n",
    "p[:5]"
   ]
  },
  {
   "cell_type": "code",
   "execution_count": 31,
   "metadata": {},
   "outputs": [
    {
     "name": "stdout",
     "output_type": "stream",
     "text": [
      "_________________________________________________________________\n",
      "Layer (type)                 Output Shape              Param #   \n",
      "=================================================================\n",
      "merge_1 (Merge)              (None, 12)                0         \n",
      "_________________________________________________________________\n",
      "dense_4 (Dense)              (None, 12)                156       \n",
      "_________________________________________________________________\n",
      "activation_3 (Activation)    (None, 12)                0         \n",
      "_________________________________________________________________\n",
      "dense_5 (Dense)              (None, 3)                 39        \n",
      "_________________________________________________________________\n",
      "activation_4 (Activation)    (None, 3)                 0         \n",
      "=================================================================\n",
      "Total params: 247\n",
      "Trainable params: 247\n",
      "Non-trainable params: 0\n",
      "_________________________________________________________________\n"
     ]
    }
   ],
   "source": [
    "model.summary()"
   ]
  },
  {
   "cell_type": "code",
   "execution_count": 32,
   "metadata": {
    "scrolled": true
   },
   "outputs": [
    {
     "name": "stdout",
     "output_type": "stream",
     "text": [
      "Epoch 1/100\n",
      "1325/1325 [==============================] - 0s 141us/step - loss: 0.6433 - acc: 0.6521\n",
      "Epoch 2/100\n",
      "1325/1325 [==============================] - 0s 44us/step - loss: 0.6283 - acc: 0.6576\n",
      "Epoch 3/100\n",
      "1325/1325 [==============================] - 0s 59us/step - loss: 0.6229 - acc: 0.6609\n",
      "Epoch 4/100\n",
      "1325/1325 [==============================] - 0s 57us/step - loss: 0.6198 - acc: 0.6611\n",
      "Epoch 5/100\n",
      "1325/1325 [==============================] - 0s 65us/step - loss: 0.6178 - acc: 0.6629\n",
      "Epoch 6/100\n",
      "1325/1325 [==============================] - 0s 60us/step - loss: 0.6163 - acc: 0.6642\n",
      "Epoch 7/100\n",
      "1325/1325 [==============================] - 0s 48us/step - loss: 0.6152 - acc: 0.6644\n",
      "Epoch 8/100\n",
      "1325/1325 [==============================] - 0s 39us/step - loss: 0.6143 - acc: 0.6647\n",
      "Epoch 9/100\n",
      "1325/1325 [==============================] - 0s 40us/step - loss: 0.6136 - acc: 0.6649\n",
      "Epoch 10/100\n",
      "1325/1325 [==============================] - 0s 39us/step - loss: 0.6130 - acc: 0.6649\n",
      "Epoch 11/100\n",
      "1325/1325 [==============================] - 0s 44us/step - loss: 0.6125 - acc: 0.6652\n",
      "Epoch 12/100\n",
      "1325/1325 [==============================] - 0s 40us/step - loss: 0.6121 - acc: 0.6647\n",
      "Epoch 13/100\n",
      "1325/1325 [==============================] - 0s 38us/step - loss: 0.6118 - acc: 0.6652\n",
      "Epoch 14/100\n",
      "1325/1325 [==============================] - 0s 39us/step - loss: 0.6115 - acc: 0.6652\n",
      "Epoch 15/100\n",
      "1325/1325 [==============================] - 0s 38us/step - loss: 0.6112 - acc: 0.6654\n",
      "Epoch 16/100\n",
      "1325/1325 [==============================] - 0s 93us/step - loss: 0.6109 - acc: 0.6662\n",
      "Epoch 17/100\n",
      "1325/1325 [==============================] - 0s 117us/step - loss: 0.6107 - acc: 0.6662\n",
      "Epoch 18/100\n",
      "1325/1325 [==============================] - 0s 123us/step - loss: 0.6104 - acc: 0.6664\n",
      "Epoch 19/100\n",
      "1325/1325 [==============================] - 0s 106us/step - loss: 0.6103 - acc: 0.6667\n",
      "Epoch 20/100\n",
      "1325/1325 [==============================] - 0s 70us/step - loss: 0.6101 - acc: 0.6667\n",
      "Epoch 21/100\n",
      "1325/1325 [==============================] - 0s 48us/step - loss: 0.6099 - acc: 0.6667\n",
      "Epoch 22/100\n",
      "1325/1325 [==============================] - 0s 39us/step - loss: 0.6098 - acc: 0.6667\n",
      "Epoch 23/100\n",
      "1325/1325 [==============================] - 0s 38us/step - loss: 0.6096 - acc: 0.6669\n",
      "Epoch 24/100\n",
      "1325/1325 [==============================] - 0s 44us/step - loss: 0.6095 - acc: 0.6669\n",
      "Epoch 25/100\n",
      "1325/1325 [==============================] - 0s 56us/step - loss: 0.6093 - acc: 0.6669\n",
      "Epoch 26/100\n",
      "1325/1325 [==============================] - 0s 57us/step - loss: 0.6092 - acc: 0.6669\n",
      "Epoch 27/100\n",
      "1325/1325 [==============================] - 0s 41us/step - loss: 0.6090 - acc: 0.6664\n",
      "Epoch 28/100\n",
      "1325/1325 [==============================] - 0s 45us/step - loss: 0.6089 - acc: 0.6667\n",
      "Epoch 29/100\n",
      "1325/1325 [==============================] - 0s 38us/step - loss: 0.6088 - acc: 0.6667\n",
      "Epoch 30/100\n",
      "1325/1325 [==============================] - 0s 39us/step - loss: 0.6087 - acc: 0.6669\n",
      "Epoch 31/100\n",
      "1325/1325 [==============================] - 0s 53us/step - loss: 0.6085 - acc: 0.6669\n",
      "Epoch 32/100\n",
      "1325/1325 [==============================] - 0s 47us/step - loss: 0.6084 - acc: 0.6669\n",
      "Epoch 33/100\n",
      "1325/1325 [==============================] - 0s 99us/step - loss: 0.6083 - acc: 0.6674\n",
      "Epoch 34/100\n",
      "1325/1325 [==============================] - 0s 84us/step - loss: 0.6082 - acc: 0.6659\n",
      "Epoch 35/100\n",
      "1325/1325 [==============================] - 0s 57us/step - loss: 0.6081 - acc: 0.6669\n",
      "Epoch 36/100\n",
      "1325/1325 [==============================] - 0s 53us/step - loss: 0.6080 - acc: 0.6659\n",
      "Epoch 37/100\n",
      "1325/1325 [==============================] - 0s 54us/step - loss: 0.6079 - acc: 0.6672\n",
      "Epoch 38/100\n",
      "1325/1325 [==============================] - 0s 53us/step - loss: 0.6078 - acc: 0.6669\n",
      "Epoch 39/100\n",
      "1325/1325 [==============================] - 0s 53us/step - loss: 0.6077 - acc: 0.6674\n",
      "Epoch 40/100\n",
      "1325/1325 [==============================] - 0s 49us/step - loss: 0.6076 - acc: 0.6672\n",
      "Epoch 41/100\n",
      "1325/1325 [==============================] - 0s 43us/step - loss: 0.6075 - acc: 0.6664\n",
      "Epoch 42/100\n",
      "1325/1325 [==============================] - 0s 47us/step - loss: 0.6074 - acc: 0.6659\n",
      "Epoch 43/100\n",
      "1325/1325 [==============================] - 0s 41us/step - loss: 0.6073 - acc: 0.6669\n",
      "Epoch 44/100\n",
      "1325/1325 [==============================] - 0s 46us/step - loss: 0.6073 - acc: 0.6662\n",
      "Epoch 45/100\n",
      "1325/1325 [==============================] - 0s 50us/step - loss: 0.6072 - acc: 0.6662\n",
      "Epoch 46/100\n",
      "1325/1325 [==============================] - 0s 40us/step - loss: 0.6071 - acc: 0.6667\n",
      "Epoch 47/100\n",
      "1325/1325 [==============================] - 0s 44us/step - loss: 0.6070 - acc: 0.6667\n",
      "Epoch 48/100\n",
      "1325/1325 [==============================] - 0s 43us/step - loss: 0.6069 - acc: 0.6674\n",
      "Epoch 49/100\n",
      "1325/1325 [==============================] - 0s 40us/step - loss: 0.6068 - acc: 0.6664\n",
      "Epoch 50/100\n",
      "1325/1325 [==============================] - 0s 38us/step - loss: 0.6068 - acc: 0.6674\n",
      "Epoch 51/100\n",
      "1325/1325 [==============================] - 0s 38us/step - loss: 0.6067 - acc: 0.6677\n",
      "Epoch 52/100\n",
      "1325/1325 [==============================] - 0s 37us/step - loss: 0.6066 - acc: 0.6677\n",
      "Epoch 53/100\n",
      "1325/1325 [==============================] - 0s 40us/step - loss: 0.6066 - acc: 0.6674\n",
      "Epoch 54/100\n",
      "1325/1325 [==============================] - 0s 43us/step - loss: 0.6065 - acc: 0.6672\n",
      "Epoch 55/100\n",
      "1325/1325 [==============================] - 0s 41us/step - loss: 0.6064 - acc: 0.6672\n",
      "Epoch 56/100\n",
      "1325/1325 [==============================] - 0s 57us/step - loss: 0.6063 - acc: 0.6674\n",
      "Epoch 57/100\n",
      "1325/1325 [==============================] - 0s 47us/step - loss: 0.6063 - acc: 0.6667\n",
      "Epoch 58/100\n",
      "1325/1325 [==============================] - 0s 40us/step - loss: 0.6062 - acc: 0.6659\n",
      "Epoch 59/100\n",
      "1325/1325 [==============================] - 0s 56us/step - loss: 0.6061 - acc: 0.6667\n",
      "Epoch 60/100\n",
      "1325/1325 [==============================] - 0s 45us/step - loss: 0.6061 - acc: 0.6677\n",
      "Epoch 61/100\n",
      "1325/1325 [==============================] - 0s 40us/step - loss: 0.6060 - acc: 0.6674\n",
      "Epoch 62/100\n",
      "1325/1325 [==============================] - 0s 38us/step - loss: 0.6059 - acc: 0.6664\n",
      "Epoch 63/100\n",
      "1325/1325 [==============================] - 0s 49us/step - loss: 0.6059 - acc: 0.6664\n",
      "Epoch 64/100\n",
      "1325/1325 [==============================] - 0s 78us/step - loss: 0.6058 - acc: 0.6667\n",
      "Epoch 65/100\n",
      "1325/1325 [==============================] - 0s 48us/step - loss: 0.6058 - acc: 0.6669\n",
      "Epoch 66/100\n",
      "1325/1325 [==============================] - 0s 40us/step - loss: 0.6057 - acc: 0.6677\n",
      "Epoch 67/100\n",
      "1325/1325 [==============================] - 0s 41us/step - loss: 0.6056 - acc: 0.6659\n",
      "Epoch 68/100\n",
      "1325/1325 [==============================] - 0s 38us/step - loss: 0.6056 - acc: 0.6667\n",
      "Epoch 69/100\n",
      "1325/1325 [==============================] - 0s 41us/step - loss: 0.6055 - acc: 0.6662\n",
      "Epoch 70/100\n",
      "1325/1325 [==============================] - 0s 39us/step - loss: 0.6054 - acc: 0.6684\n",
      "Epoch 71/100\n",
      "1325/1325 [==============================] - 0s 43us/step - loss: 0.6054 - acc: 0.6679\n",
      "Epoch 72/100\n",
      "1325/1325 [==============================] - 0s 43us/step - loss: 0.6053 - acc: 0.6679\n",
      "Epoch 73/100\n",
      "1325/1325 [==============================] - 0s 39us/step - loss: 0.6053 - acc: 0.6677\n",
      "Epoch 74/100\n",
      "1325/1325 [==============================] - 0s 39us/step - loss: 0.6052 - acc: 0.6679\n",
      "Epoch 75/100\n",
      "1325/1325 [==============================] - 0s 40us/step - loss: 0.6052 - acc: 0.6682\n",
      "Epoch 76/100\n",
      "1325/1325 [==============================] - 0s 38us/step - loss: 0.6051 - acc: 0.6679\n",
      "Epoch 77/100\n",
      "1325/1325 [==============================] - 0s 39us/step - loss: 0.6051 - acc: 0.6682\n",
      "Epoch 78/100\n",
      "1325/1325 [==============================] - 0s 39us/step - loss: 0.6050 - acc: 0.6682\n",
      "Epoch 79/100\n",
      "1325/1325 [==============================] - 0s 38us/step - loss: 0.6050 - acc: 0.6677\n",
      "Epoch 80/100\n",
      "1325/1325 [==============================] - 0s 39us/step - loss: 0.6049 - acc: 0.6677\n",
      "Epoch 81/100\n",
      "1325/1325 [==============================] - 0s 133us/step - loss: 0.6049 - acc: 0.6677\n",
      "Epoch 82/100\n",
      "1325/1325 [==============================] - 0s 65us/step - loss: 0.6048 - acc: 0.6679\n"
     ]
    },
    {
     "name": "stdout",
     "output_type": "stream",
     "text": [
      "Epoch 83/100\n",
      "1325/1325 [==============================] - 0s 63us/step - loss: 0.6048 - acc: 0.6677\n",
      "Epoch 84/100\n",
      "1325/1325 [==============================] - 0s 52us/step - loss: 0.6047 - acc: 0.6677\n",
      "Epoch 85/100\n",
      "1325/1325 [==============================] - 0s 60us/step - loss: 0.6047 - acc: 0.6677\n",
      "Epoch 86/100\n",
      "1325/1325 [==============================] - 0s 62us/step - loss: 0.6046 - acc: 0.6679\n",
      "Epoch 87/100\n",
      "1325/1325 [==============================] - 0s 75us/step - loss: 0.6046 - acc: 0.6677\n",
      "Epoch 88/100\n",
      "1325/1325 [==============================] - 0s 94us/step - loss: 0.6045 - acc: 0.6679\n",
      "Epoch 89/100\n",
      "1325/1325 [==============================] - 0s 91us/step - loss: 0.6045 - acc: 0.6677\n",
      "Epoch 90/100\n",
      "1325/1325 [==============================] - 0s 82us/step - loss: 0.6044 - acc: 0.6674\n",
      "Epoch 91/100\n",
      "1325/1325 [==============================] - 0s 75us/step - loss: 0.6044 - acc: 0.6679\n",
      "Epoch 92/100\n",
      "1325/1325 [==============================] - 0s 53us/step - loss: 0.6043 - acc: 0.6672\n",
      "Epoch 93/100\n",
      "1325/1325 [==============================] - 0s 68us/step - loss: 0.6043 - acc: 0.6677\n",
      "Epoch 94/100\n",
      "1325/1325 [==============================] - 0s 59us/step - loss: 0.6042 - acc: 0.6682\n",
      "Epoch 95/100\n",
      "1325/1325 [==============================] - 0s 51us/step - loss: 0.6042 - acc: 0.6682\n",
      "Epoch 96/100\n",
      "1325/1325 [==============================] - 0s 40us/step - loss: 0.6041 - acc: 0.6679\n",
      "Epoch 97/100\n",
      "1325/1325 [==============================] - 0s 44us/step - loss: 0.6041 - acc: 0.6682\n",
      "Epoch 98/100\n",
      "1325/1325 [==============================] - 0s 40us/step - loss: 0.6041 - acc: 0.6679\n",
      "Epoch 99/100\n",
      "1325/1325 [==============================] - 0s 94us/step - loss: 0.6040 - acc: 0.6674\n",
      "Epoch 100/100\n",
      "1325/1325 [==============================] - 0s 73us/step - loss: 0.6040 - acc: 0.6679\n"
     ]
    },
    {
     "data": {
      "text/plain": [
       "<keras.callbacks.History at 0x7f19bc252d68>"
      ]
     },
     "execution_count": 32,
     "metadata": {},
     "output_type": "execute_result"
    }
   ],
   "source": [
    "model = Sequential()\n",
    "model.add(Dense(4, input_dim=train_x.shape[1]))\n",
    "model.add(Activation('relu'))\n",
    "model.add(Dense(units=3))\n",
    "model.add(Activation('softmax'))\n",
    "\n",
    "model.compile(optimizer='adagrad', loss='binary_crossentropy', metrics=['accuracy'])\n",
    "model.fit(train_x, train_y, epochs=100)"
   ]
  },
  {
   "cell_type": "code",
   "execution_count": 33,
   "metadata": {},
   "outputs": [
    {
     "name": "stdout",
     "output_type": "stream",
     "text": [
      "\r",
      "148/148 [==============================] - 0s 325us/step\n"
     ]
    },
    {
     "data": {
      "text/plain": [
       "[0.59562325477600098, 0.66891878843307495]"
      ]
     },
     "execution_count": 33,
     "metadata": {},
     "output_type": "execute_result"
    }
   ],
   "source": [
    "model.evaluate(test_x,test_y,batch_size=256)"
   ]
  },
  {
   "cell_type": "code",
   "execution_count": 34,
   "metadata": {},
   "outputs": [],
   "source": [
    "# model.fit?"
   ]
  },
  {
   "cell_type": "markdown",
   "metadata": {
    "collapsed": true
   },
   "source": [
    "---"
   ]
  }
 ],
 "metadata": {
  "anaconda-cloud": {},
  "kernelspec": {
   "display_name": "Python 3",
   "language": "python",
   "name": "python3"
  },
  "language_info": {
   "codemirror_mode": {
    "name": "ipython",
    "version": 3
   },
   "file_extension": ".py",
   "mimetype": "text/x-python",
   "name": "python",
   "nbconvert_exporter": "python",
   "pygments_lexer": "ipython3",
   "version": "3.6.4"
  },
  "latex_envs": {
   "bibliofile": "biblio.bib",
   "cite_by": "apalike",
   "current_citInitial": 1,
   "eqLabelWithNumbers": true,
   "eqNumInitial": 0
  }
 },
 "nbformat": 4,
 "nbformat_minor": 1
}
