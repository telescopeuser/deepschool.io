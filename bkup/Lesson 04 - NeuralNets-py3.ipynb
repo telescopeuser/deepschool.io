{
 "cells": [
  {
   "cell_type": "markdown",
   "metadata": {},
   "source": [
    "# Deep Learning - Hidden Layers\n",
    "\n",
    "https://www.youtube.com/watch?v=UCG1FuKmIOs\n",
    "\n",
    "## Why do we stack layers \n",
    "(adapted from http://stats.stackexchange.com/questions/63152/what-does-the-hidden-layer-in-a-neural-network-compute)\n",
    "\n",
    "Let's call the input vector $x$, the hidden layer activations $h$, and the output activation $y$.  You have some function $f$ that maps from $x$ to $h$ and another function $g$ that maps from $h$ to $y$.  \n",
    "\n",
    "So the hidden layer's activation is $f(x)$ and the output of the network is $g(f(x))$.\n",
    "\n",
    "**Why have two functions ($f$ and $g$) instead of just one?**\n",
    "\n",
    "If the level of complexity per function is limited, then $g(f(x))$ can compute things that $f$ and $g$ can't do individually.  \n",
    "\n",
    "------\n",
    "\n",
    "**An example with logical functions:**\n",
    "\n",
    "For example, if we only allow $f$ and $g$ to be simple logical operators like \"AND\", \"OR\", and \"NAND\", then you can't compute other functions like \"XOR\" with just one of them.  On the other hand, we *could* compute \"XOR\" if we were willing to layer these functions on top of each other: \n",
    "\n",
    "First layer functions:\n",
    "\n",
    "* Make sure that at least one element is \"TRUE\" (using OR)\n",
    "* Make sure that they're not all \"TRUE\" (using NAND)\n",
    "\n",
    "Second layer function:\n",
    "\n",
    "* Make sure that both of the first-layer criteria are satisfied (using AND)\n",
    "\n",
    "The network's output is just the result of this second function.  The first layer *transforms the inputs* into something that the second layer can use so that the whole network can perform XOR.\n",
    "\n",
    "----\n",
    "\n",
    "**An example with images:**\n",
    "\n",
    "Slide 61 from [this talk](http://cs.nyu.edu/~fergus/tutorials/deep_learning_cvpr12/CVPR2012-Tutorial_lee.pdf) as a single image--shows (one way to visualize) what the different hidden layers in a particular neural network are looking for.\n",
    "\n",
    "![cnn](images/nn.png)\n",
    "\n",
    "The first layer looks for short pieces of edges in the image: these are very easy to find from raw pixel data, but they're not very useful by themselves for telling you if you're looking at a face or a bus or an elephant.\n",
    "\n",
    "The next layer composes the edges: if the edges from the bottom hidden layer fit together in a certain way, then one of the eye-detectors in the middle of left-most column might turn on.  It would be hard to make a single layer that was so good at finding something so specific from the raw pixels: eye detectors are much easier to build out of edge detectors than out of raw pixels.\n",
    "\n",
    "The next layer up composes the eye detectors and the nose detectors into faces.  In other words, these will light up when the eye detectors and nose detectors from the previous layer turn on with the right patterns.  These are very good at looking for particular kinds of faces: if one or more of them lights up, then your output layer should report that a face is present.\n",
    "\n",
    "This is useful because **face detectors are easy to build out of eye detectors and nose detectors, but really hard to build out of pixel intensities.**\n",
    "\n",
    "So each layer gets you farther and farther from the raw pixels and closer to your ultimate goal (e.g. face detection or bus detection)."
   ]
  },
  {
   "cell_type": "code",
   "execution_count": 1,
   "metadata": {},
   "outputs": [],
   "source": [
    "%matplotlib inline\n",
    "import matplotlib.pyplot as plt"
   ]
  },
  {
   "cell_type": "code",
   "execution_count": 2,
   "metadata": {},
   "outputs": [
    {
     "data": {
      "image/png": "[encoded data removed]",
      "text/plain": [
       "<matplotlib.figure.Figure at 0x7f9122655358>"
      ]
     },
     "metadata": {},
     "output_type": "display_data"
    }
   ],
   "source": [
    "import numpy as np\n",
    "\n",
    "y = 0.5\n",
    "def loss(p,y):\n",
    "    l = -(y*np.log(p)+(1-y)*np.log(1-p))\n",
    "    return l\n",
    "\n",
    "p = np.arange(1e-3,0.999,1e-3)\n",
    "\n",
    "l = loss(p,y)\n",
    "plt.plot(p,l)\n",
    "plt.title('Cross Entropy Loss')\n",
    "plt.show()"
   ]
  },
  {
   "cell_type": "markdown",
   "metadata": {},
   "source": [
    "## Useful terms:\n",
    "\n",
    "1. Activation\n",
    "2. Softmax\n",
    "3. Cross Entropy\n",
    "4. One Hot Encoding\n",
    "5. Gradient Descent"
   ]
  },
  {
   "cell_type": "code",
   "execution_count": 3,
   "metadata": {},
   "outputs": [
    {
     "name": "stdout",
     "output_type": "stream",
     "text": [
      "Extracting ./train-images-idx3-ubyte.gz\n",
      "Extracting ./train-labels-idx1-ubyte.gz\n",
      "Extracting ./t10k-images-idx3-ubyte.gz\n",
      "Extracting ./t10k-labels-idx1-ubyte.gz\n"
     ]
    }
   ],
   "source": [
    "import tensorflow as tf\n",
    "from tensorflow.examples.tutorials.mnist import input_data\n",
    "\n",
    "mnist = input_data.read_data_sets('./', one_hot=True)"
   ]
  },
  {
   "cell_type": "code",
   "execution_count": 4,
   "metadata": {},
   "outputs": [],
   "source": [
    "x, y = mnist.train.next_batch(20)"
   ]
  },
  {
   "cell_type": "code",
   "execution_count": 5,
   "metadata": {},
   "outputs": [
    {
     "data": {
      "text/plain": [
       "(20, 784)"
      ]
     },
     "execution_count": 5,
     "metadata": {},
     "output_type": "execute_result"
    }
   ],
   "source": [
    "x.shape"
   ]
  },
  {
   "cell_type": "code",
   "execution_count": 6,
   "metadata": {},
   "outputs": [
    {
     "data": {
      "text/plain": [
       "784"
      ]
     },
     "execution_count": 6,
     "metadata": {},
     "output_type": "execute_result"
    }
   ],
   "source": [
    "28*28"
   ]
  },
  {
   "cell_type": "code",
   "execution_count": 7,
   "metadata": {},
   "outputs": [
    {
     "data": {
      "text/plain": [
       "(20, 10)"
      ]
     },
     "execution_count": 7,
     "metadata": {},
     "output_type": "execute_result"
    }
   ],
   "source": [
    "y.shape"
   ]
  },
  {
   "cell_type": "code",
   "execution_count": 8,
   "metadata": {},
   "outputs": [
    {
     "data": {
      "text/plain": [
       "array([[ 0.,  0.,  1.,  0.,  0.,  0.,  0.,  0.,  0.,  0.],\n",
       "       [ 0.,  0.,  0.,  0.,  0.,  0.,  0.,  0.,  0.,  1.],\n",
       "       [ 0.,  0.,  0.,  0.,  1.,  0.,  0.,  0.,  0.,  0.],\n",
       "       [ 0.,  0.,  0.,  0.,  0.,  0.,  0.,  0.,  1.,  0.],\n",
       "       [ 0.,  0.,  0.,  0.,  0.,  0.,  0.,  0.,  0.,  1.],\n",
       "       [ 1.,  0.,  0.,  0.,  0.,  0.,  0.,  0.,  0.,  0.],\n",
       "       [ 0.,  0.,  0.,  1.,  0.,  0.,  0.,  0.,  0.,  0.],\n",
       "       [ 0.,  0.,  0.,  0.,  0.,  0.,  0.,  0.,  0.,  1.],\n",
       "       [ 0.,  0.,  0.,  0.,  0.,  0.,  0.,  0.,  1.,  0.],\n",
       "       [ 1.,  0.,  0.,  0.,  0.,  0.,  0.,  0.,  0.,  0.],\n",
       "       [ 0.,  0.,  0.,  0.,  1.,  0.,  0.,  0.,  0.,  0.],\n",
       "       [ 0.,  0.,  1.,  0.,  0.,  0.,  0.,  0.,  0.,  0.],\n",
       "       [ 0.,  0.,  0.,  0.,  1.,  0.,  0.,  0.,  0.,  0.],\n",
       "       [ 0.,  0.,  0.,  1.,  0.,  0.,  0.,  0.,  0.,  0.],\n",
       "       [ 0.,  0.,  0.,  0.,  0.,  0.,  1.,  0.,  0.,  0.],\n",
       "       [ 0.,  0.,  0.,  0.,  0.,  0.,  0.,  0.,  1.,  0.],\n",
       "       [ 0.,  0.,  0.,  0.,  1.,  0.,  0.,  0.,  0.,  0.],\n",
       "       [ 0.,  0.,  0.,  0.,  0.,  0.,  0.,  0.,  0.,  1.],\n",
       "       [ 0.,  0.,  1.,  0.,  0.,  0.,  0.,  0.,  0.,  0.],\n",
       "       [ 0.,  1.,  0.,  0.,  0.,  0.,  0.,  0.,  0.,  0.]])"
      ]
     },
     "execution_count": 8,
     "metadata": {},
     "output_type": "execute_result"
    }
   ],
   "source": [
    "y"
   ]
  },
  {
   "cell_type": "code",
   "execution_count": 9,
   "metadata": {},
   "outputs": [
    {
     "data": {
      "image/png": "[encoded data removed]",
      "text/plain": [
       "<matplotlib.figure.Figure at 0x7f9101481518>"
      ]
     },
     "metadata": {},
     "output_type": "display_data"
    }
   ],
   "source": [
    "plt.imshow(x[1].reshape((28,28)),cmap='Greys')\n",
    "plt.show()"
   ]
  },
  {
   "cell_type": "code",
   "execution_count": 10,
   "metadata": {},
   "outputs": [
    {
     "name": "stdout",
     "output_type": "stream",
     "text": [
      "WARNING:tensorflow:From /home/iss-user/anaconda3/envs/iss-env-py3/lib/python3.6/site-packages/tensorflow/python/util/tf_should_use.py:175: initialize_all_variables (from tensorflow.python.ops.variables) is deprecated and will be removed after 2017-03-02.\n",
      "Instructions for updating:\n",
      "Use `tf.global_variables_initializer` instead.\n",
      "loss: 2.30258\n",
      "loss: 0.442206\n",
      "loss: 0.334002\n",
      "loss: 0.343285\n",
      "loss: 0.325086\n",
      "loss: 0.300592\n",
      "loss: 0.246496\n",
      "loss: 0.451478\n",
      "loss: 0.420783\n",
      "loss: 0.264766\n"
     ]
    }
   ],
   "source": [
    "x = tf.placeholder(tf.float32, [None, 784])\n",
    "W = tf.Variable(tf.zeros([784, 10]))\n",
    "b = tf.Variable(tf.zeros([10]))\n",
    "y = tf.matmul(x,W) + b\n",
    "\n",
    "y_true = tf.placeholder(tf.float32,[None, 10])\n",
    "\n",
    "#   tf.reduce_mean(-tf.reduce_sum(y_true * tf.log(tf.nn.softmax(y)),\n",
    "#                                 reduction_indices=[1]))\n",
    "cross_entropy = tf.reduce_mean(tf.nn.softmax_cross_entropy_with_logits(labels=y_true, logits=y))\n",
    "train_step = tf.train.GradientDescentOptimizer(0.5).minimize(cross_entropy)\n",
    "\n",
    "sess = tf.InteractiveSession()\n",
    "tf.initialize_all_variables().run()\n",
    "\n",
    "# Training\n",
    "for i in range(1000):\n",
    "    batch_xs, batch_ys = mnist.train.next_batch(128)\n",
    "    l,_ = sess.run([cross_entropy, train_step], feed_dict={x: batch_xs, y_true: batch_ys})\n",
    "    if i%100 == 0:\n",
    "        print('loss: '+str(l))"
   ]
  },
  {
   "cell_type": "markdown",
   "metadata": {},
   "source": [
    "Softmax takes a $D$ dimensional vector and squeezes them through a function such that we have $D$ outputs whos values are positive and sums to one.\n",
    "$$\n",
    "\\text{softmax}(\\mathbf{y})_d = \\frac{\\exp(-y_d)}{\\exp(-y_1)+...+\\exp(-y_D)}\n",
    "$$"
   ]
  },
  {
   "cell_type": "code",
   "execution_count": 11,
   "metadata": {},
   "outputs": [
    {
     "data": {
      "text/plain": [
       "0.047425873177566788"
      ]
     },
     "execution_count": 11,
     "metadata": {},
     "output_type": "execute_result"
    }
   ],
   "source": [
    "[-2, 1]\n",
    "np.exp(-2)/(np.exp(-2)+np.exp(1))"
   ]
  },
  {
   "cell_type": "code",
   "execution_count": 12,
   "metadata": {},
   "outputs": [
    {
     "name": "stdout",
     "output_type": "stream",
     "text": [
      "0.917\n"
     ]
    }
   ],
   "source": [
    "# test the model\n",
    "correct_prediction = tf.equal(tf.argmax(y,1), tf.argmax(y_true,1))\n",
    "accuracy = tf.reduce_mean(tf.cast(correct_prediction, tf.float32))\n",
    "print(sess.run(accuracy, feed_dict={x: mnist.test.images, y_true: mnist.test.labels}))"
   ]
  },
  {
   "cell_type": "code",
   "execution_count": 13,
   "metadata": {
    "scrolled": true
   },
   "outputs": [
    {
     "name": "stdout",
     "output_type": "stream",
     "text": [
      "0.916073\n"
     ]
    }
   ],
   "source": [
    "print(sess.run(accuracy, feed_dict={x: mnist.train.images, y_true: mnist.train.labels}))"
   ]
  },
  {
   "cell_type": "code",
   "execution_count": 14,
   "metadata": {},
   "outputs": [
    {
     "name": "stdout",
     "output_type": "stream",
     "text": [
      "WARNING:tensorflow:From /home/iss-user/anaconda3/envs/iss-env-py3/lib/python3.6/site-packages/tensorflow/python/util/tf_should_use.py:175: initialize_all_variables (from tensorflow.python.ops.variables) is deprecated and will be removed after 2017-03-02.\n",
      "Instructions for updating:\n",
      "Use `tf.global_variables_initializer` instead.\n",
      "0: loss: 2.30258 accuracy: 0.0859375\n",
      "10: loss: 0.970875 accuracy: 0.6875\n",
      "20: loss: 0.641055 accuracy: 0.84375\n",
      "30: loss: 0.511136 accuracy: 0.859375\n",
      "40: loss: 0.735076 accuracy: 0.804688\n",
      "50: loss: 0.509233 accuracy: 0.828125\n",
      "60: loss: 0.390711 accuracy: 0.875\n",
      "70: loss: 0.43777 accuracy: 0.84375\n",
      "80: loss: 0.318442 accuracy: 0.921875\n",
      "90: loss: 0.464599 accuracy: 0.875\n",
      "100: loss: 0.49504 accuracy: 0.898438\n",
      "200: loss: 0.238301 accuracy: 0.929688\n",
      "300: loss: 0.380051 accuracy: 0.890625\n",
      "400: loss: 0.392663 accuracy: 0.914062\n",
      "500: loss: 0.218888 accuracy: 0.9375\n",
      "600: loss: 0.314164 accuracy: 0.921875\n",
      "700: loss: 0.325308 accuracy: 0.921875\n",
      "800: loss: 0.313457 accuracy: 0.914062\n",
      "900: loss: 0.311485 accuracy: 0.898438\n"
     ]
    }
   ],
   "source": [
    "sess = tf.InteractiveSession()\n",
    "tf.initialize_all_variables().run()\n",
    "\n",
    "# Training\n",
    "for i in range(1000):\n",
    "    batch_xs, batch_ys = mnist.train.next_batch(128)\n",
    "    l,_,a = sess.run([cross_entropy, train_step, accuracy], feed_dict={x: batch_xs, y_true: batch_ys})\n",
    "    if i%100 == 0 or (i<100 and i%10==0):\n",
    "        print(str(i)+': loss: '+str(l)+' accuracy: '+str(a))"
   ]
  },
  {
   "cell_type": "markdown",
   "metadata": {},
   "source": [
    "## Hidden Layered Network"
   ]
  },
  {
   "cell_type": "code",
   "execution_count": 15,
   "metadata": {},
   "outputs": [],
   "source": [
    "def fully_conntected_activation(input,size_in,size_out):\n",
    "    # Initialise variables\n",
    "    W = tf.Variable(tf.truncated_normal([size_in, size_out],stddev=0.1))\n",
    "    b = tf.Variable(tf.truncated_normal([size_out], stddev=0.1))\n",
    "    # NN part\n",
    "    activation = tf.nn.relu(tf.matmul(input,W)+b)\n",
    "    \n",
    "    return activation\n",
    "\n",
    "def fully_conntected(input,size_in,size_out):\n",
    "    # Initialise variables\n",
    "    W = tf.Variable(tf.truncated_normal([size_in, size_out],stddev=0.1))\n",
    "    b = tf.Variable(tf.truncated_normal([size_out], stddev=0.1))\n",
    "    # NN part\n",
    "    activation = tf.matmul(input,W)+b\n",
    "    \n",
    "    return activation"
   ]
  },
  {
   "cell_type": "code",
   "execution_count": 16,
   "metadata": {},
   "outputs": [
    {
     "name": "stdout",
     "output_type": "stream",
     "text": [
      "WARNING:tensorflow:From /home/iss-user/anaconda3/envs/iss-env-py3/lib/python3.6/site-packages/tensorflow/python/util/tf_should_use.py:175: initialize_all_variables (from tensorflow.python.ops.variables) is deprecated and will be removed after 2017-03-02.\n",
      "Instructions for updating:\n",
      "Use `tf.global_variables_initializer` instead.\n",
      "0: loss: 2.35818 accuracy: 0.117188\n",
      "10: loss: 1.11357 accuracy: 0.640625\n",
      "20: loss: 0.890855 accuracy: 0.703125\n",
      "30: loss: 0.51857 accuracy: 0.859375\n",
      "40: loss: 0.394057 accuracy: 0.890625\n",
      "50: loss: 0.511947 accuracy: 0.851562\n",
      "60: loss: 0.422956 accuracy: 0.882812\n",
      "70: loss: 0.310123 accuracy: 0.898438\n",
      "80: loss: 0.441691 accuracy: 0.875\n",
      "90: loss: 0.296006 accuracy: 0.914062\n",
      "100: loss: 0.45131 accuracy: 0.859375\n",
      "200: loss: 0.274302 accuracy: 0.9375\n",
      "300: loss: 0.137832 accuracy: 0.945312\n",
      "400: loss: 0.1415 accuracy: 0.945312\n",
      "500: loss: 0.172358 accuracy: 0.945312\n",
      "600: loss: 0.0739765 accuracy: 0.976562\n",
      "700: loss: 0.176215 accuracy: 0.960938\n",
      "800: loss: 0.143319 accuracy: 0.929688\n",
      "900: loss: 0.132633 accuracy: 0.960938\n"
     ]
    }
   ],
   "source": [
    "x = tf.placeholder(tf.float32, [None, 784])\n",
    "y_true = tf.placeholder(tf.float32,[None, 10])\n",
    "\n",
    "hidden = fully_conntected_activation(x,784,100)\n",
    "output = fully_conntected(hidden,100,10)\n",
    "# output = fully_conntected(x,784,10)\n",
    "\n",
    "cross_entropy = tf.reduce_mean(tf.nn.softmax_cross_entropy_with_logits(labels=y_true, logits=output))\n",
    "train_step = tf.train.GradientDescentOptimizer(0.5).minimize(cross_entropy)\n",
    "\n",
    "# test the model\n",
    "correct_prediction = tf.equal(tf.argmax(output,1), tf.argmax(y_true,1))\n",
    "accuracy = tf.reduce_mean(tf.cast(correct_prediction, tf.float32))\n",
    "\n",
    "sess = tf.InteractiveSession()\n",
    "tf.initialize_all_variables().run()\n",
    "\n",
    "# Training\n",
    "for i in range(1000):\n",
    "    batch_xs, batch_ys = mnist.train.next_batch(128)\n",
    "    l,_,a = sess.run([cross_entropy, train_step, accuracy], \n",
    "                     feed_dict={x: batch_xs, y_true: batch_ys})\n",
    "    if i%100 == 0 or (i<100 and i%10==0):\n",
    "        print(str(i)+': loss: '+str(l)+' accuracy: '+str(a))"
   ]
  },
  {
   "cell_type": "code",
   "execution_count": 17,
   "metadata": {},
   "outputs": [
    {
     "name": "stdout",
     "output_type": "stream",
     "text": [
      "0.9605\n"
     ]
    }
   ],
   "source": [
    "print(sess.run(accuracy, feed_dict={x: mnist.test.images, y_true: mnist.test.labels}))"
   ]
  },
  {
   "cell_type": "markdown",
   "metadata": {
    "collapsed": true
   },
   "source": [
    "---"
   ]
  }
 ],
 "metadata": {
  "anaconda-cloud": {},
  "kernelspec": {
   "display_name": "Python 3",
   "language": "python",
   "name": "python3"
  },
  "language_info": {
   "codemirror_mode": {
    "name": "ipython",
    "version": 3
   },
   "file_extension": ".py",
   "mimetype": "text/x-python",
   "name": "python",
   "nbconvert_exporter": "python",
   "pygments_lexer": "ipython3",
   "version": "3.6.4"
  },
  "latex_envs": {
   "bibliofile": "biblio.bib",
   "cite_by": "apalike",
   "current_citInitial": 1,
   "eqLabelWithNumbers": true,
   "eqNumInitial": 0
  }
 },
 "nbformat": 4,
 "nbformat_minor": 1
}
