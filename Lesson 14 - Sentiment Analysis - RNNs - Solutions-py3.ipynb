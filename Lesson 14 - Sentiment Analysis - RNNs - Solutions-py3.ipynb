{
 "cells": [
  {
   "cell_type": "markdown",
   "metadata": {},
   "source": [
    "# Recurrent Neural Nets - Sentiment Analysis\n",
    "\n",
    "There is a branch of Deep Learning that is dedicated to processing time series. These deep Nets are **Recursive Neural Nets (RNNs)**. LSTMs are one of the few types of RNNs that are available. Gated Recurent Units (GRUs) are the other type of popular RNNs.\n",
    "\n",
    "This is an illustration from http://colah.github.io/posts/2015-08-Understanding-LSTMs/ (A highly recommended read)\n",
    "\n",
    "![RNNs](./images/RNN-unrolled.png)\n",
    "\n",
    "In lesson 5 we looked at getting the sentiment of a given movie review. The data comes from a IMDB review set where a rating of less than 5 was classified as negative and greater than 5 as positive. Neutral reviews were ignored.\n",
    "\n",
    "In the previous lesson we considered a Bag of Words (BoW) model where the emphasis is on how many times a particular word appeared in the sentence/ review. This worked fairly well giving around 80% accuracy.\n",
    "\n",
    "One thing that was missing was the structure of the sentence. The word order was not taken into account. For example a sentence such as this: \"I wanted to hate it so much but I loved the movie.\" would probably confuse the previous model. Simply because 'love' and 'hate' are both included in the sentence. There were other preprocessing steps done such as stemming (eg. hated -> hate, runner -> run) which will not be done in this lesson. We will maintain structure and feed in a number representation of words in order into our DL model.\n",
    "\n",
    "<img src=\"./images/happy_trump.png\" alt=\"happy\" style=\"width: 150px;\"/><img src=\"./images/sad_trump.png\" alt=\"sad\" style=\"width: 150px;\"/>\n",
    "\n",
    "## References\n",
    "1. Similar work done for a fake news classifier: https://blog.kjamistan.com/comparing-scikit-learn-text-classifiers-on-a-fake-news-dataset/\n"
   ]
  },
  {
   "cell_type": "code",
   "execution_count": 1,
   "metadata": {},
   "outputs": [
    {
     "name": "stderr",
     "output_type": "stream",
     "text": [
      "Using TensorFlow backend.\n"
     ]
    }
   ],
   "source": [
    "%matplotlib inline\n",
    "import pandas as pd\n",
    "import numpy as np\n",
    "import matplotlib.pyplot as plt\n",
    "\n",
    "import re\n",
    "\n",
    "from keras.models import Sequential\n",
    "from keras.layers import Activation, Dropout, Flatten, Dense, BatchNormalization, LSTM, Embedding, Reshape\n",
    "from keras.models import load_model, model_from_json\n",
    "\n",
    "from sklearn.model_selection import train_test_split\n",
    "\n",
    "import os\n",
    "import urllib\n",
    "\n",
    "from collections import Counter"
   ]
  },
  {
   "cell_type": "code",
   "execution_count": 2,
   "metadata": {},
   "outputs": [],
   "source": [
    "!mkdir -p data"
   ]
  },
  {
   "cell_type": "code",
   "execution_count": 4,
   "metadata": {},
   "outputs": [],
   "source": [
    "if not os.path.isfile('data/reviews2.pkl'):\n",
    "    urllib.request.urlretrieve('https://www.dropbox.com/s/15tfttuzqe7fimg/reviews2.pkl?dl=1','data/reviews2.pkl') "
   ]
  },
  {
   "cell_type": "markdown",
   "metadata": {},
   "source": [
    "Preprocessing steps: lower case, remove urls, some punctuations etc."
   ]
  },
  {
   "cell_type": "code",
   "execution_count": 5,
   "metadata": {},
   "outputs": [
    {
     "name": "stdout",
     "output_type": "stream",
     "text": [
      "(25000, 2)\n"
     ]
    },
    {
     "data": {
      "text/html": [
       "<div>\n",
       "<style scoped>\n",
       "    .dataframe tbody tr th:only-of-type {\n",
       "        vertical-align: middle;\n",
       "    }\n",
       "\n",
       "    .dataframe tbody tr th {\n",
       "        vertical-align: top;\n",
       "    }\n",
       "\n",
       "    .dataframe thead th {\n",
       "        text-align: right;\n",
       "    }\n",
       "</style>\n",
       "<table border=\"1\" class=\"dataframe\">\n",
       "  <thead>\n",
       "    <tr style=\"text-align: right;\">\n",
       "      <th></th>\n",
       "      <th>Reviews</th>\n",
       "      <th>Sentiment</th>\n",
       "    </tr>\n",
       "  </thead>\n",
       "  <tbody>\n",
       "    <tr>\n",
       "      <th>0</th>\n",
       "      <td>bromwell high is a cartoon comedy . it ran at ...</td>\n",
       "      <td>1</td>\n",
       "    </tr>\n",
       "    <tr>\n",
       "      <th>1</th>\n",
       "      <td>homelessness or houselessness as george carlin...</td>\n",
       "      <td>1</td>\n",
       "    </tr>\n",
       "    <tr>\n",
       "      <th>2</th>\n",
       "      <td>brilliant overacting by lesley ann warren . be...</td>\n",
       "      <td>1</td>\n",
       "    </tr>\n",
       "    <tr>\n",
       "      <th>3</th>\n",
       "      <td>this is easily the most underrated film inn th...</td>\n",
       "      <td>1</td>\n",
       "    </tr>\n",
       "    <tr>\n",
       "      <th>4</th>\n",
       "      <td>this is not the typical mel brooks film . it w...</td>\n",
       "      <td>1</td>\n",
       "    </tr>\n",
       "  </tbody>\n",
       "</table>\n",
       "</div>"
      ],
      "text/plain": [
       "                                             Reviews  Sentiment\n",
       "0  bromwell high is a cartoon comedy . it ran at ...          1\n",
       "1  homelessness or houselessness as george carlin...          1\n",
       "2  brilliant overacting by lesley ann warren . be...          1\n",
       "3  this is easily the most underrated film inn th...          1\n",
       "4  this is not the typical mel brooks film . it w...          1"
      ]
     },
     "execution_count": 5,
     "metadata": {},
     "output_type": "execute_result"
    }
   ],
   "source": [
    "df = pd.read_pickle('data/reviews2.pkl')\n",
    "df.Reviews = df.Reviews.str.lower()\n",
    "df.Reviews = df.Reviews.str.replace(r'http[\\w:/\\.]+','') # remove urls\n",
    "df.Reviews = df.Reviews.str.replace(r'[^\\.\\w\\s]','') #remove everything but characters and punctuation\n",
    "df.Reviews = df.Reviews.str.replace(r'\\.\\.+','.') #replace multple periods with a single one\n",
    "df.Reviews = df.Reviews.str.replace(r'\\.',' .') #replace multple periods with a single one\n",
    "df.Reviews = df.Reviews.str.replace(r'\\s\\s+',' ') #replace multple white space with a single one\n",
    "df.Reviews = df.Reviews.str.strip() \n",
    "print(df.shape)\n",
    "df.head()"
   ]
  },
  {
   "cell_type": "code",
   "execution_count": 6,
   "metadata": {},
   "outputs": [
    {
     "data": {
      "text/plain": [
       "'bromwell high is a cartoon comedy . it ran at the same time as some other programs about school life such as teachers . my 35 years in the teaching profession lead me to believe that bromwell highs satire is much closer to reality than is teachers . the scramble to survive financially the insightful students who can see right through their pathetic teachers pomp the pettiness of the whole situation all remind me of the schools i knew and their students . when i saw the episode in which a student repeatedly tried to burn down the school i immediately recalled . at . high . a classic line inspector im here to sack one of your teachers . student welcome to bromwell high . i expect that many adults of my age think that bromwell high is far fetched . what a pity that it isnt'"
      ]
     },
     "execution_count": 6,
     "metadata": {},
     "output_type": "execute_result"
    }
   ],
   "source": [
    "df.Reviews.values[0]"
   ]
  },
  {
   "cell_type": "markdown",
   "metadata": {},
   "source": [
    "Get all the unique words. We will only consider words that have been used more than 5 times. Finally from this we create a dictionary mapping words to integers.\n",
    "\n",
    "Once this is done we will create a list of reviews where the words are converted to ints."
   ]
  },
  {
   "cell_type": "code",
   "execution_count": 7,
   "metadata": {},
   "outputs": [
    {
     "name": "stdout",
     "output_type": "stream",
     "text": [
      "The number of unique words are:  27915\n",
      "The first review looks like this: \n",
      "[22054, 323, 6, 3, 1074, 217, 1, 8, 2102, 32, 0, 167, 59, 14, 47, 81, 5531, 43, 400, 118]\n"
     ]
    }
   ],
   "source": [
    "all_text = ' '.join(df.Reviews.values)\n",
    "words = all_text.split()\n",
    "u_words = Counter(words).most_common()\n",
    "u_words = [word[0] for word in u_words if word[1]>5] # we will only consider words that have been used more than 5 times\n",
    "# create the dictionary\n",
    "word2num = dict(zip(u_words,range(len(u_words))))\n",
    "word2num['<Other>'] = len(u_words)\n",
    "num2word = dict(zip(word2num.values(), word2num.keys()))\n",
    "\n",
    "int_text = [[word2num[word] if word in word2num else len(u_words) for word in Review.split()] for Review in df.Reviews.values]\n",
    "\n",
    "print('The number of unique words are: ', len(u_words))\n",
    "print('The first review looks like this: ')\n",
    "print(int_text[0][:20])"
   ]
  },
  {
   "cell_type": "code",
   "execution_count": 8,
   "metadata": {},
   "outputs": [
    {
     "data": {
      "image/png": "[encoded data removed]",
      "text/plain": [
       "<matplotlib.figure.Figure at 0x7fc2706842e8>"
      ]
     },
     "metadata": {},
     "output_type": "display_data"
    }
   ],
   "source": [
    "plt.hist([len(t) for t in int_text],50)\n",
    "plt.show()"
   ]
  },
  {
   "cell_type": "code",
   "execution_count": 9,
   "metadata": {},
   "outputs": [
    {
     "name": "stdout",
     "output_type": "stream",
     "text": [
      "The number of reviews greater than 500 in length is:  2234\n",
      "The number of reviews less than 50 in length is:  411\n"
     ]
    }
   ],
   "source": [
    "print('The number of reviews greater than 500 in length is: ', np.sum(np.array([len(t)>500 for t in int_text])))\n",
    "print('The number of reviews less than 50 in length is: ', np.sum(np.array([len(t)<50 for t in int_text])))"
   ]
  },
  {
   "cell_type": "markdown",
   "metadata": {},
   "source": [
    "You cannot pass differing lengths of sentences to the algorithm. Hence we shall prepad the sentence with `<PAD>`. Sequences less than 500 in length will be prepadded and sequences that are longer than 500 will be truncated. It is assumed that the sentiment of the review can be asserted from the first 500 words."
   ]
  },
  {
   "cell_type": "code",
   "execution_count": 10,
   "metadata": {},
   "outputs": [],
   "source": [
    "num2word[len(word2num)] = '<PAD>'\n",
    "word2num['<PAD>'] = len(word2num)\n",
    "\n",
    "for i, t in enumerate(int_text):\n",
    "    if len(t)<500:\n",
    "        int_text[i] = [word2num['<PAD>']]*(500-len(t)) + t\n",
    "    elif len(t)>500:\n",
    "        int_text[i] = t[:500]\n",
    "    else:\n",
    "        continue\n",
    "\n",
    "x = np.array(int_text)\n",
    "y = df.Sentiment.values\n",
    "\n",
    "X_train, X_test, y_train, y_test = train_test_split(x, y, test_size=0.1, random_state=42)"
   ]
  },
  {
   "cell_type": "markdown",
   "metadata": {
    "collapsed": true
   },
   "source": [
    "## Many to One LSTM"
   ]
  },
  {
   "cell_type": "code",
   "execution_count": 11,
   "metadata": {},
   "outputs": [
    {
     "name": "stdout",
     "output_type": "stream",
     "text": [
      "_________________________________________________________________\n",
      "Layer (type)                 Output Shape              Param #   \n",
      "=================================================================\n",
      "embedding_1 (Embedding)      (None, None, 32)          893344    \n",
      "_________________________________________________________________\n",
      "lstm_1 (LSTM)                (None, 64)                24832     \n",
      "_________________________________________________________________\n",
      "dense_1 (Dense)              (None, 1)                 65        \n",
      "=================================================================\n",
      "Total params: 918,241\n",
      "Trainable params: 918,241\n",
      "Non-trainable params: 0\n",
      "_________________________________________________________________\n"
     ]
    }
   ],
   "source": [
    "model = Sequential()\n",
    "model.add(Embedding(len(word2num), 32)) # , batch_size=batch_size\n",
    "model.add(LSTM(64))\n",
    "model.add(Dense(1, activation='sigmoid'))\n",
    "\n",
    "model.compile(loss='binary_crossentropy', optimizer='adam', metrics=['accuracy'])\n",
    "model.summary()"
   ]
  },
  {
   "cell_type": "code",
   "execution_count": 12,
   "metadata": {},
   "outputs": [
    {
     "name": "stdout",
     "output_type": "stream",
     "text": [
      "Epoch 1/2\n",
      "22500/22500 [==============================] - 179s 8ms/step - loss: 0.6001 - acc: 0.6966\n",
      "Epoch 2/2\n",
      "22500/22500 [==============================] - 157s 7ms/step - loss: 0.2888 - acc: 0.8813\n"
     ]
    },
    {
     "data": {
      "text/plain": [
       "<keras.callbacks.History at 0x7fc23b918cf8>"
      ]
     },
     "execution_count": 12,
     "metadata": {},
     "output_type": "execute_result"
    }
   ],
   "source": [
    "batch_size = 128\n",
    "model.fit(X_train, y_train, batch_size=batch_size, epochs=2)"
   ]
  },
  {
   "cell_type": "markdown",
   "metadata": {
    "collapsed": true
   },
   "source": [
    "The first number below is the loss and the second value onwards is whatever metrics you have used, in this case it is the accuracy. Important to set the `batch_size` as well since evaluation can be slower for default size (32)."
   ]
  },
  {
   "cell_type": "code",
   "execution_count": 13,
   "metadata": {},
   "outputs": [
    {
     "name": "stdout",
     "output_type": "stream",
     "text": [
      "2500/2500 [==============================] - 7s 3ms/step\n"
     ]
    },
    {
     "data": {
      "text/plain": [
       "[0.27450007939338683, 0.89479999942779542]"
      ]
     },
     "execution_count": 13,
     "metadata": {},
     "output_type": "execute_result"
    }
   ],
   "source": [
    "model.evaluate(X_test, y_test, batch_size=batch_size)"
   ]
  },
  {
   "cell_type": "code",
   "execution_count": 14,
   "metadata": {},
   "outputs": [
    {
     "data": {
      "text/plain": [
       "array([27916, 27916, 27916, 27916, 27916, 27916, 27916, 27916, 27916,\n",
       "       27916, 27916, 27916, 27916, 27916, 27916,     7,  3848,     7,\n",
       "           0,  1881,   726,  3247,   289,  1246,  1210,     1,  2964,\n",
       "        1030,    37,    44,    25,  1283, 22951,  7472,    16,     3,\n",
       "        3590,    11,  1320,  3220,     1,    14,  1036,   717,  1709,\n",
       "        2849,   740,    46,     0,   230,  1103,    36,   105,  3531,\n",
       "           7,     0,  4668,     1,   176,    22,     0,  1842,   129,\n",
       "           0,   105,     4,    94,   399,  8951,  5448,     7,    34,\n",
       "         761,     5,   162,     0,  1773,     2,   250,   321,  3894,\n",
       "           5,     0,  3543,    19,    12,    14,    13,  3304,    46,\n",
       "          33,   100,   595,     4,    82,    15,    47,   272,   172,\n",
       "       13418,  7067,   117,    22,  1379,     5,   175,     0,   390,\n",
       "         514,    16,   250,    11,   918,    39,   496,    36, 14725,\n",
       "           1,   252,    75,     5,   156,  5102,   115,     0,    64,\n",
       "         299,   267,     9,    69,  1236, 19937,     5,    11,     1,\n",
       "         726,  3247,     2,    25,   318,  2165, 12988, 17634,    69,\n",
       "          27, 13040,    84,    14,     3,  2964,  1030,    28,    98,\n",
       "          27,  4903,    48,    18,    15,   144,    11,    24,  5774,\n",
       "           8,   146,   159,    19,    12,    18,    16,  3220,    46,\n",
       "          48,     2,     0,  1612,   109,   803,     3,   981,     0,\n",
       "         156,  5102, 26764,   501,     3, 21642,     4,     0,  9579,\n",
       "        5444,     1,     0,   357,   230,   368,   128,     3,  1673,\n",
       "          36,  2333,     2,    28,    68,  5444,  5693,     1,     3,\n",
       "         156,  5102,  2076,   230,   251,    33,   709,  5527,  2954,\n",
       "           5,     3,   219,   735,     4, 22295,  7777,     2,   501,\n",
       "       21605,     3,  3238,     4,     0,   357,   230,    37,     6,\n",
       "        1815,     5,   120,  3220, 16539,     1,  5527,   183,  5181,\n",
       "         827,     7,     0,    86,    20,   115,    28,  1985,  1459,\n",
       "          19,    12,  1236,    56,   500,     7,    10,    20,     6,\n",
       "        1491,  9453,     1,    10,   556,   203,   155,  9453,    13,\n",
       "       22669,     2,   185,    11,    59,    28,    91,     3, 13204,\n",
       "           4,   385,    60,    27,  1247,   458,    37,    24,    63,\n",
       "       27915,     1,    28,   289,     0,   167,   238,     4,   211,\n",
       "           7,     0, 10587,  7228,    20,     0, 11268,     1,  1021,\n",
       "           9,    69,   238,     4,  3391,    16,  9453,     7,    11,\n",
       "         228,  1308,   134,   115,    28,     2,  5527,    24,   109,\n",
       "        4379,   186,    33,  3247,  1709,     2,   359,     0,   156,\n",
       "        5102,   553,     1,   309,     0,  3399,  5740,  1491,   260,\n",
       "           5,   386,    58,    16,  5527,    13,   139,   321,    84,\n",
       "         143,   238,     4,     7, 27915,  2735,   149,     7,     0,\n",
       "       27915,  2574,    19,    12,  7067,   803,     0,   216,   166,\n",
       "          32,     3,    50,  5201,   218,    53,   111,   186,    59,\n",
       "           7,    10,    20,     1,    45,    48,    13,   100,   324,\n",
       "           8,    60,    27,    34,  6747,  1476,    20,     1,  3848,\n",
       "           7,     0,  1881,  1165,    34,   810,    15,   114,   196,\n",
       "         869,    11,   331,    19,    12,  7067,    78,    91,    50,\n",
       "         351,     4,     0,   156,  5102, 10088,     2,     0,   787,\n",
       "        6641,     1,    47,     4,     0,   167,  2512,     4,   644,\n",
       "          24,   294,   338,     7,    21,     0, 10088,     1,     7,\n",
       "         187,  3848,     7,     0,  1881,     6,    43,    82,    22,\n",
       "       24748,    52,    35,    63,   140,     7,    65,   199,   114,\n",
       "         587,     1,    53,   716,   171,     5,    21,     0, 10088,\n",
       "          19,    12,  3848,     7,     0,  1881,   121,   307,  2584,\n",
       "          37,    13,  3375,    16,     8,     1,   149,   135,   412,\n",
       "       13418,  7067,    76,    47,   533,   156,  5102,  5048,    82,\n",
       "           7,     0,   390,   542,     1])"
      ]
     },
     "execution_count": 14,
     "metadata": {},
     "output_type": "execute_result"
    }
   ],
   "source": [
    "X_test[0,:]"
   ]
  },
  {
   "cell_type": "code",
   "execution_count": 15,
   "metadata": {},
   "outputs": [
    {
     "data": {
      "text/plain": [
       "array([[ 0.98170358]], dtype=float32)"
      ]
     },
     "execution_count": 15,
     "metadata": {},
     "output_type": "execute_result"
    }
   ],
   "source": [
    "model.predict(X_test[0][None,:])"
   ]
  },
  {
   "cell_type": "code",
   "execution_count": 16,
   "metadata": {},
   "outputs": [
    {
     "data": {
      "text/plain": [
       "1"
      ]
     },
     "execution_count": 16,
     "metadata": {},
     "output_type": "execute_result"
    }
   ],
   "source": [
    "y_test[0]"
   ]
  },
  {
   "cell_type": "code",
   "execution_count": 17,
   "metadata": {},
   "outputs": [
    {
     "data": {
      "text/plain": [
       "(2500, 500)"
      ]
     },
     "execution_count": 17,
     "metadata": {},
     "output_type": "execute_result"
    }
   ],
   "source": [
    "X_test.shape"
   ]
  },
  {
   "cell_type": "code",
   "execution_count": 18,
   "metadata": {},
   "outputs": [
    {
     "data": {
      "text/plain": [
       "(1, 500)"
      ]
     },
     "execution_count": 18,
     "metadata": {},
     "output_type": "execute_result"
    }
   ],
   "source": [
    "X_test[0][None,:].shape"
   ]
  },
  {
   "cell_type": "code",
   "execution_count": 19,
   "metadata": {},
   "outputs": [
    {
     "data": {
      "text/plain": [
       "array([[ 0.55422628]], dtype=float32)"
      ]
     },
     "execution_count": 19,
     "metadata": {},
     "output_type": "execute_result"
    }
   ],
   "source": [
    "sentence = \"donald trump . \".lower()\n",
    "sentence_num = [word2num[w] if w in word2num else word2num['<Other>'] for w in sentence.split()]\n",
    "sentence_num = [word2num['<PAD>']]*(500-len(sentence_num)) + sentence_num\n",
    "sentence_num = np.array(sentence_num)\n",
    "model.predict(sentence_num[None,:])"
   ]
  },
  {
   "cell_type": "code",
   "execution_count": 20,
   "metadata": {},
   "outputs": [
    {
     "data": {
      "text/plain": [
       "2000"
      ]
     },
     "execution_count": 20,
     "metadata": {},
     "output_type": "execute_result"
    }
   ],
   "source": [
    "word2num['washington']"
   ]
  },
  {
   "cell_type": "code",
   "execution_count": 21,
   "metadata": {},
   "outputs": [
    {
     "data": {
      "text/plain": [
       "array([-0.01726139, -0.04959514,  0.04721377, -0.01896544,  0.03904107,\n",
       "       -0.05339386, -0.0318684 ,  0.04673713, -0.04334692, -0.04567495,\n",
       "        0.03542164, -0.01118277, -0.03033838,  0.01233505,  0.03414015,\n",
       "       -0.00682862,  0.04984694,  0.00596975, -0.05482409,  0.00929336,\n",
       "       -0.00303048, -0.04176805,  0.01059499,  0.0565246 , -0.0558453 ,\n",
       "       -0.00546785, -0.04133826,  0.00916991,  0.05849088, -0.05174542,\n",
       "        0.00778678, -0.00449359], dtype=float32)"
      ]
     },
     "execution_count": 21,
     "metadata": {},
     "output_type": "execute_result"
    }
   ],
   "source": [
    "model.get_weights()[0][word2num['trump']]"
   ]
  },
  {
   "cell_type": "code",
   "execution_count": 22,
   "metadata": {},
   "outputs": [
    {
     "data": {
      "text/plain": [
       "array([-0.0087095 , -0.04241782,  0.01230696, -0.03714038, -0.06135994,\n",
       "        0.00760195,  0.02777364,  0.07299132, -0.06609873, -0.02097359,\n",
       "        0.01137068,  0.01731196,  0.03382057, -0.0036195 , -0.0306195 ,\n",
       "        0.05178453, -0.01523854,  0.00716526, -0.0335728 , -0.07671038,\n",
       "        0.02215168,  0.00062636, -0.00311515, -0.07438745, -0.00466766,\n",
       "       -0.00450422, -0.03426327,  0.06381596, -0.01512961, -0.02493496,\n",
       "        0.07057063,  0.01613435], dtype=float32)"
      ]
     },
     "execution_count": 22,
     "metadata": {},
     "output_type": "execute_result"
    }
   ],
   "source": [
    "model.get_weights()[0][word2num['hitler']]"
   ]
  },
  {
   "cell_type": "code",
   "execution_count": 22,
   "metadata": {},
   "outputs": [
    {
     "data": {
      "text/plain": [
       "array([-0.00042697,  0.02666594,  0.00539789,  0.00934576, -0.00378692,\n",
       "        0.02564251,  0.04248873,  0.03831405, -0.00569457, -0.03243225,\n",
       "        0.01039807,  0.01550463,  0.02280113, -0.05804716,  0.01169127,\n",
       "       -0.01287616, -0.03764107,  0.02296564, -0.01055763, -0.03860405,\n",
       "       -0.04602284,  0.0618933 , -0.03801853, -0.01890442,  0.03961621,\n",
       "        0.02046974, -0.03808747, -0.02318501, -0.04816858, -0.00388916,\n",
       "        0.04502256, -0.02875248], dtype=float32)"
      ]
     },
     "execution_count": 22,
     "metadata": {},
     "output_type": "execute_result"
    }
   ],
   "source": [
    "model.get_weights()[0][word2num['<PAD>']]"
   ]
  },
  {
   "cell_type": "code",
   "execution_count": 23,
   "metadata": {},
   "outputs": [
    {
     "data": {
      "text/plain": [
       "(27917, 32)"
      ]
     },
     "execution_count": 23,
     "metadata": {},
     "output_type": "execute_result"
    }
   ],
   "source": [
    "model.get_weights()[0].shape"
   ]
  },
  {
   "cell_type": "code",
   "execution_count": null,
   "metadata": {
    "collapsed": true
   },
   "outputs": [],
   "source": []
  }
 ],
 "metadata": {
  "kernelspec": {
   "display_name": "Python 3",
   "language": "python",
   "name": "python3"
  },
  "language_info": {
   "codemirror_mode": {
    "name": "ipython",
    "version": 3
   },
   "file_extension": ".py",
   "mimetype": "text/x-python",
   "name": "python",
   "nbconvert_exporter": "python",
   "pygments_lexer": "ipython3",
   "version": "3.6.4"
  }
 },
 "nbformat": 4,
 "nbformat_minor": 2
}
